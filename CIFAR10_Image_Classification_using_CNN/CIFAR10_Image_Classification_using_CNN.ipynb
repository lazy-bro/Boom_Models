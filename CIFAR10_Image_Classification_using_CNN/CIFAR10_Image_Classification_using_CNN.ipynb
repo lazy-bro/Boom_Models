{
  "cells": [
    {
      "cell_type": "markdown",
      "metadata": {
        "id": "view-in-github",
        "colab_type": "text"
      },
      "source": [
        "<a href=\"https://colab.research.google.com/github/lazy-bro/Boom_Models/blob/main/CIFAR10_Image_Classification_using_CNN/CIFAR10_Image_Classification_using_CNN.ipynb\" target=\"_parent\"><img src=\"https://colab.research.google.com/assets/colab-badge.svg\" alt=\"Open In Colab\"/></a>"
      ]
    },
    {
      "cell_type": "code",
      "execution_count": 1,
      "metadata": {
        "id": "wqtV1uR2S5Jh"
      },
      "outputs": [],
      "source": [
        "import keras\n",
        "from keras.layers import Dropout, BatchNormalization"
      ]
    },
    {
      "cell_type": "code",
      "execution_count": 2,
      "metadata": {
        "collapsed": true,
        "id": "jBwMR0vaVA5S",
        "colab": {
          "base_uri": "https://localhost:8080/"
        },
        "outputId": "a85ee36c-2a04-4148-ba91-c0032146e164"
      },
      "outputs": [
        {
          "output_type": "stream",
          "name": "stdout",
          "text": [
            "Downloading data from https://www.cs.toronto.edu/~kriz/cifar-10-python.tar.gz\n",
            "\u001b[1m170498071/170498071\u001b[0m \u001b[32m━━━━━━━━━━━━━━━━━━━━\u001b[0m\u001b[37m\u001b[0m \u001b[1m8s\u001b[0m 0us/step\n"
          ]
        }
      ],
      "source": [
        "(X_train, Y_train), (X_test, Y_test) = keras.datasets.cifar10.load_data()"
      ]
    },
    {
      "cell_type": "code",
      "execution_count": 3,
      "metadata": {
        "colab": {
          "base_uri": "https://localhost:8080/"
        },
        "id": "tpQOvBEbVbo6",
        "outputId": "872d9985-d6ad-4ff0-8c85-d8de7ef101c0"
      },
      "outputs": [
        {
          "output_type": "execute_result",
          "data": {
            "text/plain": [
              "(10000, 32, 32, 3)"
            ]
          },
          "metadata": {},
          "execution_count": 3
        }
      ],
      "source": [
        "X_test.shape"
      ]
    },
    {
      "cell_type": "code",
      "execution_count": 4,
      "metadata": {
        "colab": {
          "base_uri": "https://localhost:8080/"
        },
        "id": "4_1S4nxtVd5B",
        "outputId": "306a68e8-9ad8-48cc-f568-195b8d7e3a7a"
      },
      "outputs": [
        {
          "output_type": "execute_result",
          "data": {
            "text/plain": [
              "(10000, 1)"
            ]
          },
          "metadata": {},
          "execution_count": 4
        }
      ],
      "source": [
        "Y_test.shape"
      ]
    },
    {
      "cell_type": "code",
      "execution_count": 5,
      "metadata": {
        "colab": {
          "base_uri": "https://localhost:8080/"
        },
        "id": "XNIYkWgsVhBX",
        "outputId": "87cde52f-daff-436d-acce-c0bc11f2bb40"
      },
      "outputs": [
        {
          "output_type": "execute_result",
          "data": {
            "text/plain": [
              "array([0, 1, 2, 3, 4, 5, 6, 7, 8, 9], dtype=uint8)"
            ]
          },
          "metadata": {},
          "execution_count": 5
        }
      ],
      "source": [
        "import matplotlib.pyplot as plt\n",
        "import numpy as np\n",
        "np.unique(Y_test)"
      ]
    },
    {
      "cell_type": "code",
      "execution_count": 6,
      "metadata": {
        "colab": {
          "base_uri": "https://localhost:8080/",
          "height": 72
        },
        "id": "e81ZCCU4VqK_",
        "outputId": "d3af4919-c139-44f7-f0b4-a40bca74a221"
      },
      "outputs": [
        {
          "output_type": "execute_result",
          "data": {
            "text/plain": [
              "array([[[ 28,  35,  39],\n",
              "        [ 30,  34,  44],\n",
              "        [ 33,  44,  47],\n",
              "        ...,\n",
              "        [ 43,  56,  45],\n",
              "        [ 52,  64,  53],\n",
              "        [ 46,  58,  47]],\n",
              "\n",
              "       [[ 27,  30,  38],\n",
              "        [ 27,  28,  41],\n",
              "        [ 21,  31,  39],\n",
              "        ...,\n",
              "        [112, 136,  97],\n",
              "        [117, 140, 101],\n",
              "        [115, 138, 100]],\n",
              "\n",
              "       [[ 34,  36,  42],\n",
              "        [ 33,  33,  43],\n",
              "        [ 24,  30,  40],\n",
              "        ...,\n",
              "        [175, 208, 143],\n",
              "        [177, 209, 144],\n",
              "        [176, 208, 143]],\n",
              "\n",
              "       ...,\n",
              "\n",
              "       [[142, 176, 118],\n",
              "        [142, 176, 118],\n",
              "        [150, 184, 127],\n",
              "        ...,\n",
              "        [134, 175, 119],\n",
              "        [128, 168, 112],\n",
              "        [134, 175, 119]],\n",
              "\n",
              "       [[140, 176, 124],\n",
              "        [145, 180, 129],\n",
              "        [150, 186, 134],\n",
              "        ...,\n",
              "        [131, 170, 119],\n",
              "        [130, 170, 119],\n",
              "        [122, 162, 111]],\n",
              "\n",
              "       [[134, 171, 123],\n",
              "        [136, 171, 124],\n",
              "        [136, 171, 124],\n",
              "        ...,\n",
              "        [106, 144, 100],\n",
              "        [104, 142,  99],\n",
              "        [101, 140,  96]]], dtype=uint8)"
            ],
            "text/html": [
              "<style>\n",
              "      .ndarray_repr .ndarray_raw_data {\n",
              "        display: none;\n",
              "      }\n",
              "      .ndarray_repr.show_array .ndarray_raw_data {\n",
              "        display: block;\n",
              "      }\n",
              "      .ndarray_repr.show_array .ndarray_image_preview {\n",
              "        display: none;\n",
              "      }\n",
              "      </style>\n",
              "      <div id=\"id-f3b783bc-2d1c-4400-b489-53cc377e001d\" class=\"ndarray_repr\"><pre>ndarray (32, 32, 3) <button style=\"padding: 0 2px;\">show data</button></pre><img src=\"data:image/png;base64,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\" class=\"ndarray_image_preview\" /><pre class=\"ndarray_raw_data\">array([[[ 28,  35,  39],\n",
              "        [ 30,  34,  44],\n",
              "        [ 33,  44,  47],\n",
              "        ...,\n",
              "        [ 43,  56,  45],\n",
              "        [ 52,  64,  53],\n",
              "        [ 46,  58,  47]],\n",
              "\n",
              "       [[ 27,  30,  38],\n",
              "        [ 27,  28,  41],\n",
              "        [ 21,  31,  39],\n",
              "        ...,\n",
              "        [112, 136,  97],\n",
              "        [117, 140, 101],\n",
              "        [115, 138, 100]],\n",
              "\n",
              "       [[ 34,  36,  42],\n",
              "        [ 33,  33,  43],\n",
              "        [ 24,  30,  40],\n",
              "        ...,\n",
              "        [175, 208, 143],\n",
              "        [177, 209, 144],\n",
              "        [176, 208, 143]],\n",
              "\n",
              "       ...,\n",
              "\n",
              "       [[142, 176, 118],\n",
              "        [142, 176, 118],\n",
              "        [150, 184, 127],\n",
              "        ...,\n",
              "        [134, 175, 119],\n",
              "        [128, 168, 112],\n",
              "        [134, 175, 119]],\n",
              "\n",
              "       [[140, 176, 124],\n",
              "        [145, 180, 129],\n",
              "        [150, 186, 134],\n",
              "        ...,\n",
              "        [131, 170, 119],\n",
              "        [130, 170, 119],\n",
              "        [122, 162, 111]],\n",
              "\n",
              "       [[134, 171, 123],\n",
              "        [136, 171, 124],\n",
              "        [136, 171, 124],\n",
              "        ...,\n",
              "        [106, 144, 100],\n",
              "        [104, 142,  99],\n",
              "        [101, 140,  96]]], dtype=uint8)</pre></div><script>\n",
              "      (() => {\n",
              "      const titles = ['show data', 'hide data'];\n",
              "      let index = 0\n",
              "      document.querySelector('#id-f3b783bc-2d1c-4400-b489-53cc377e001d button').onclick = (e) => {\n",
              "        document.querySelector('#id-f3b783bc-2d1c-4400-b489-53cc377e001d').classList.toggle('show_array');\n",
              "        index = (++index) % 2;\n",
              "        document.querySelector('#id-f3b783bc-2d1c-4400-b489-53cc377e001d button').textContent = titles[index];\n",
              "        e.preventDefault();\n",
              "        e.stopPropagation();\n",
              "      }\n",
              "      })();\n",
              "    </script>"
            ]
          },
          "metadata": {},
          "execution_count": 6
        }
      ],
      "source": [
        "X_train[7]"
      ]
    },
    {
      "cell_type": "code",
      "execution_count": 7,
      "metadata": {
        "id": "3sIVAh3mVvju"
      },
      "outputs": [],
      "source": [
        "model = keras.Sequential()"
      ]
    },
    {
      "cell_type": "code",
      "execution_count": 8,
      "metadata": {
        "colab": {
          "base_uri": "https://localhost:8080/",
          "height": 153
        },
        "id": "YlG2D7LxWKVv",
        "outputId": "f0003a1e-f0a5-41a0-94d7-cb9d3a04304f"
      },
      "outputs": [
        {
          "output_type": "display_data",
          "data": {
            "text/plain": [
              "\u001b[1mModel: \"sequential\"\u001b[0m\n"
            ],
            "text/html": [
              "<pre style=\"white-space:pre;overflow-x:auto;line-height:normal;font-family:Menlo,'DejaVu Sans Mono',consolas,'Courier New',monospace\"><span style=\"font-weight: bold\">Model: \"sequential\"</span>\n",
              "</pre>\n"
            ]
          },
          "metadata": {}
        },
        {
          "output_type": "display_data",
          "data": {
            "text/plain": [
              "┏━━━━━━━━━━━━━━━━━━━━━━━━━━━━━━━━━┳━━━━━━━━━━━━━━━━━━━━━━━━┳━━━━━━━━━━━━━━━┓\n",
              "┃\u001b[1m \u001b[0m\u001b[1mLayer (type)                   \u001b[0m\u001b[1m \u001b[0m┃\u001b[1m \u001b[0m\u001b[1mOutput Shape          \u001b[0m\u001b[1m \u001b[0m┃\u001b[1m \u001b[0m\u001b[1m      Param #\u001b[0m\u001b[1m \u001b[0m┃\n",
              "┡━━━━━━━━━━━━━━━━━━━━━━━━━━━━━━━━━╇━━━━━━━━━━━━━━━━━━━━━━━━╇━━━━━━━━━━━━━━━┩\n",
              "└─────────────────────────────────┴────────────────────────┴───────────────┘\n"
            ],
            "text/html": [
              "<pre style=\"white-space:pre;overflow-x:auto;line-height:normal;font-family:Menlo,'DejaVu Sans Mono',consolas,'Courier New',monospace\">┏━━━━━━━━━━━━━━━━━━━━━━━━━━━━━━━━━┳━━━━━━━━━━━━━━━━━━━━━━━━┳━━━━━━━━━━━━━━━┓\n",
              "┃<span style=\"font-weight: bold\"> Layer (type)                    </span>┃<span style=\"font-weight: bold\"> Output Shape           </span>┃<span style=\"font-weight: bold\">       Param # </span>┃\n",
              "┡━━━━━━━━━━━━━━━━━━━━━━━━━━━━━━━━━╇━━━━━━━━━━━━━━━━━━━━━━━━╇━━━━━━━━━━━━━━━┩\n",
              "└─────────────────────────────────┴────────────────────────┴───────────────┘\n",
              "</pre>\n"
            ]
          },
          "metadata": {}
        },
        {
          "output_type": "display_data",
          "data": {
            "text/plain": [
              "\u001b[1m Total params: \u001b[0m\u001b[38;5;34m0\u001b[0m (0.00 B)\n"
            ],
            "text/html": [
              "<pre style=\"white-space:pre;overflow-x:auto;line-height:normal;font-family:Menlo,'DejaVu Sans Mono',consolas,'Courier New',monospace\"><span style=\"font-weight: bold\"> Total params: </span><span style=\"color: #00af00; text-decoration-color: #00af00\">0</span> (0.00 B)\n",
              "</pre>\n"
            ]
          },
          "metadata": {}
        },
        {
          "output_type": "display_data",
          "data": {
            "text/plain": [
              "\u001b[1m Trainable params: \u001b[0m\u001b[38;5;34m0\u001b[0m (0.00 B)\n"
            ],
            "text/html": [
              "<pre style=\"white-space:pre;overflow-x:auto;line-height:normal;font-family:Menlo,'DejaVu Sans Mono',consolas,'Courier New',monospace\"><span style=\"font-weight: bold\"> Trainable params: </span><span style=\"color: #00af00; text-decoration-color: #00af00\">0</span> (0.00 B)\n",
              "</pre>\n"
            ]
          },
          "metadata": {}
        },
        {
          "output_type": "display_data",
          "data": {
            "text/plain": [
              "\u001b[1m Non-trainable params: \u001b[0m\u001b[38;5;34m0\u001b[0m (0.00 B)\n"
            ],
            "text/html": [
              "<pre style=\"white-space:pre;overflow-x:auto;line-height:normal;font-family:Menlo,'DejaVu Sans Mono',consolas,'Courier New',monospace\"><span style=\"font-weight: bold\"> Non-trainable params: </span><span style=\"color: #00af00; text-decoration-color: #00af00\">0</span> (0.00 B)\n",
              "</pre>\n"
            ]
          },
          "metadata": {}
        }
      ],
      "source": [
        "model.summary()"
      ]
    },
    {
      "cell_type": "code",
      "execution_count": 9,
      "metadata": {
        "id": "9Um0ybzj5aIL"
      },
      "outputs": [],
      "source": [
        "from tensorflow.keras.preprocessing.image import ImageDataGenerator"
      ]
    },
    {
      "cell_type": "code",
      "execution_count": 10,
      "metadata": {
        "id": "3wmuCPEj4rjL"
      },
      "outputs": [],
      "source": [
        "datagen = ImageDataGenerator(\n",
        "    rotation_range=15,\n",
        "    width_shift_range=0.1,\n",
        "    height_shift_range=0.1,\n",
        "    horizontal_flip=True,\n",
        "    zoom_range=0.1\n",
        ")"
      ]
    },
    {
      "cell_type": "code",
      "execution_count": 11,
      "metadata": {
        "id": "gxaFbl2m5Cho"
      },
      "outputs": [],
      "source": [
        "datagen.fit(X_train)"
      ]
    },
    {
      "cell_type": "code",
      "execution_count": 12,
      "metadata": {
        "id": "pclEHHU5WL-4",
        "colab": {
          "base_uri": "https://localhost:8080/"
        },
        "outputId": "9ca2eb4f-7576-4b6f-a8e3-b6fd0719b926"
      },
      "outputs": [
        {
          "output_type": "stream",
          "name": "stderr",
          "text": [
            "/usr/local/lib/python3.11/dist-packages/keras/src/layers/convolutional/base_conv.py:107: UserWarning: Do not pass an `input_shape`/`input_dim` argument to a layer. When using Sequential models, prefer using an `Input(shape)` object as the first layer in the model instead.\n",
            "  super().__init__(activity_regularizer=activity_regularizer, **kwargs)\n"
          ]
        }
      ],
      "source": [
        "model.add(keras.layers.Conv2D(\n",
        "    32,\n",
        "    (3,3),\n",
        "    activation=\"relu\",\n",
        "    input_shape=(32,32,3),\n",
        "    padding='same'\n",
        ")\n",
        ")\n",
        "model.add(BatchNormalization())"
      ]
    },
    {
      "cell_type": "code",
      "execution_count": 13,
      "metadata": {
        "id": "yhf2FRxJyxKf"
      },
      "outputs": [],
      "source": [
        "model.add(keras.layers.Conv2D(\n",
        "    32,\n",
        "    (3,3),\n",
        "    activation=\"relu\",\n",
        "    padding='same'\n",
        ")\n",
        ")"
      ]
    },
    {
      "cell_type": "code",
      "execution_count": 14,
      "metadata": {
        "id": "NoEbeuYBXhNy"
      },
      "outputs": [],
      "source": [
        "model.add(keras.layers.MaxPooling2D(\n",
        "    pool_size=(2, 2)\n",
        "))\n",
        "model.add(Dropout(0.25))"
      ]
    },
    {
      "cell_type": "code",
      "execution_count": 15,
      "metadata": {
        "id": "h6idIs8YeLVs"
      },
      "outputs": [],
      "source": [
        "model.add(keras.layers.Conv2D(\n",
        "    64,\n",
        "    (3,3),\n",
        "    activation=\"relu\",\n",
        "    padding='same'\n",
        ")\n",
        ")\n",
        "model.add(BatchNormalization())"
      ]
    },
    {
      "cell_type": "code",
      "execution_count": 16,
      "metadata": {
        "id": "nI_FV-JRzJwv"
      },
      "outputs": [],
      "source": [
        "model.add(keras.layers.Conv2D(\n",
        "    64,\n",
        "    (3,3),\n",
        "    activation=\"relu\",\n",
        "    padding='same'\n",
        ")\n",
        ")"
      ]
    },
    {
      "cell_type": "code",
      "execution_count": 17,
      "metadata": {
        "id": "e06HZXoEeTeh"
      },
      "outputs": [],
      "source": [
        "model.add(keras.layers.MaxPooling2D(\n",
        "    pool_size=(2, 2)\n",
        "))\n",
        "model.add(Dropout(0.25))"
      ]
    },
    {
      "cell_type": "code",
      "execution_count": 18,
      "metadata": {
        "id": "8EwbJ-7wYnG5"
      },
      "outputs": [],
      "source": [
        "model.add(keras.layers.Flatten())"
      ]
    },
    {
      "cell_type": "code",
      "execution_count": 19,
      "metadata": {
        "id": "_1YYXhDhY1AU"
      },
      "outputs": [],
      "source": [
        "model.add(keras.layers.Dense(512, activation=\"relu\"))"
      ]
    },
    {
      "cell_type": "code",
      "execution_count": 20,
      "metadata": {
        "id": "NQFKNWOVzUNA"
      },
      "outputs": [],
      "source": [
        "model.add(Dropout(0.5))"
      ]
    },
    {
      "cell_type": "code",
      "execution_count": 21,
      "metadata": {
        "id": "KaGZZbLhY_n2"
      },
      "outputs": [],
      "source": [
        "model.add(keras.layers.Dense(10, activation=\"softmax\"))"
      ]
    },
    {
      "cell_type": "code",
      "execution_count": 22,
      "metadata": {
        "colab": {
          "base_uri": "https://localhost:8080/",
          "height": 646
        },
        "id": "sO8z2mbHZHQH",
        "outputId": "04388673-0508-46eb-bd16-0199acb7a42f"
      },
      "outputs": [
        {
          "output_type": "display_data",
          "data": {
            "text/plain": [
              "\u001b[1mModel: \"sequential\"\u001b[0m\n"
            ],
            "text/html": [
              "<pre style=\"white-space:pre;overflow-x:auto;line-height:normal;font-family:Menlo,'DejaVu Sans Mono',consolas,'Courier New',monospace\"><span style=\"font-weight: bold\">Model: \"sequential\"</span>\n",
              "</pre>\n"
            ]
          },
          "metadata": {}
        },
        {
          "output_type": "display_data",
          "data": {
            "text/plain": [
              "┏━━━━━━━━━━━━━━━━━━━━━━━━━━━━━━━━━┳━━━━━━━━━━━━━━━━━━━━━━━━┳━━━━━━━━━━━━━━━┓\n",
              "┃\u001b[1m \u001b[0m\u001b[1mLayer (type)                   \u001b[0m\u001b[1m \u001b[0m┃\u001b[1m \u001b[0m\u001b[1mOutput Shape          \u001b[0m\u001b[1m \u001b[0m┃\u001b[1m \u001b[0m\u001b[1m      Param #\u001b[0m\u001b[1m \u001b[0m┃\n",
              "┡━━━━━━━━━━━━━━━━━━━━━━━━━━━━━━━━━╇━━━━━━━━━━━━━━━━━━━━━━━━╇━━━━━━━━━━━━━━━┩\n",
              "│ conv2d (\u001b[38;5;33mConv2D\u001b[0m)                 │ (\u001b[38;5;45mNone\u001b[0m, \u001b[38;5;34m32\u001b[0m, \u001b[38;5;34m32\u001b[0m, \u001b[38;5;34m32\u001b[0m)     │           \u001b[38;5;34m896\u001b[0m │\n",
              "├─────────────────────────────────┼────────────────────────┼───────────────┤\n",
              "│ batch_normalization             │ (\u001b[38;5;45mNone\u001b[0m, \u001b[38;5;34m32\u001b[0m, \u001b[38;5;34m32\u001b[0m, \u001b[38;5;34m32\u001b[0m)     │           \u001b[38;5;34m128\u001b[0m │\n",
              "│ (\u001b[38;5;33mBatchNormalization\u001b[0m)            │                        │               │\n",
              "├─────────────────────────────────┼────────────────────────┼───────────────┤\n",
              "│ conv2d_1 (\u001b[38;5;33mConv2D\u001b[0m)               │ (\u001b[38;5;45mNone\u001b[0m, \u001b[38;5;34m32\u001b[0m, \u001b[38;5;34m32\u001b[0m, \u001b[38;5;34m32\u001b[0m)     │         \u001b[38;5;34m9,248\u001b[0m │\n",
              "├─────────────────────────────────┼────────────────────────┼───────────────┤\n",
              "│ max_pooling2d (\u001b[38;5;33mMaxPooling2D\u001b[0m)    │ (\u001b[38;5;45mNone\u001b[0m, \u001b[38;5;34m16\u001b[0m, \u001b[38;5;34m16\u001b[0m, \u001b[38;5;34m32\u001b[0m)     │             \u001b[38;5;34m0\u001b[0m │\n",
              "├─────────────────────────────────┼────────────────────────┼───────────────┤\n",
              "│ dropout (\u001b[38;5;33mDropout\u001b[0m)               │ (\u001b[38;5;45mNone\u001b[0m, \u001b[38;5;34m16\u001b[0m, \u001b[38;5;34m16\u001b[0m, \u001b[38;5;34m32\u001b[0m)     │             \u001b[38;5;34m0\u001b[0m │\n",
              "├─────────────────────────────────┼────────────────────────┼───────────────┤\n",
              "│ conv2d_2 (\u001b[38;5;33mConv2D\u001b[0m)               │ (\u001b[38;5;45mNone\u001b[0m, \u001b[38;5;34m16\u001b[0m, \u001b[38;5;34m16\u001b[0m, \u001b[38;5;34m64\u001b[0m)     │        \u001b[38;5;34m18,496\u001b[0m │\n",
              "├─────────────────────────────────┼────────────────────────┼───────────────┤\n",
              "│ batch_normalization_1           │ (\u001b[38;5;45mNone\u001b[0m, \u001b[38;5;34m16\u001b[0m, \u001b[38;5;34m16\u001b[0m, \u001b[38;5;34m64\u001b[0m)     │           \u001b[38;5;34m256\u001b[0m │\n",
              "│ (\u001b[38;5;33mBatchNormalization\u001b[0m)            │                        │               │\n",
              "├─────────────────────────────────┼────────────────────────┼───────────────┤\n",
              "│ conv2d_3 (\u001b[38;5;33mConv2D\u001b[0m)               │ (\u001b[38;5;45mNone\u001b[0m, \u001b[38;5;34m16\u001b[0m, \u001b[38;5;34m16\u001b[0m, \u001b[38;5;34m64\u001b[0m)     │        \u001b[38;5;34m36,928\u001b[0m │\n",
              "├─────────────────────────────────┼────────────────────────┼───────────────┤\n",
              "│ max_pooling2d_1 (\u001b[38;5;33mMaxPooling2D\u001b[0m)  │ (\u001b[38;5;45mNone\u001b[0m, \u001b[38;5;34m8\u001b[0m, \u001b[38;5;34m8\u001b[0m, \u001b[38;5;34m64\u001b[0m)       │             \u001b[38;5;34m0\u001b[0m │\n",
              "├─────────────────────────────────┼────────────────────────┼───────────────┤\n",
              "│ dropout_1 (\u001b[38;5;33mDropout\u001b[0m)             │ (\u001b[38;5;45mNone\u001b[0m, \u001b[38;5;34m8\u001b[0m, \u001b[38;5;34m8\u001b[0m, \u001b[38;5;34m64\u001b[0m)       │             \u001b[38;5;34m0\u001b[0m │\n",
              "├─────────────────────────────────┼────────────────────────┼───────────────┤\n",
              "│ flatten (\u001b[38;5;33mFlatten\u001b[0m)               │ (\u001b[38;5;45mNone\u001b[0m, \u001b[38;5;34m4096\u001b[0m)           │             \u001b[38;5;34m0\u001b[0m │\n",
              "├─────────────────────────────────┼────────────────────────┼───────────────┤\n",
              "│ dense (\u001b[38;5;33mDense\u001b[0m)                   │ (\u001b[38;5;45mNone\u001b[0m, \u001b[38;5;34m512\u001b[0m)            │     \u001b[38;5;34m2,097,664\u001b[0m │\n",
              "├─────────────────────────────────┼────────────────────────┼───────────────┤\n",
              "│ dropout_2 (\u001b[38;5;33mDropout\u001b[0m)             │ (\u001b[38;5;45mNone\u001b[0m, \u001b[38;5;34m512\u001b[0m)            │             \u001b[38;5;34m0\u001b[0m │\n",
              "├─────────────────────────────────┼────────────────────────┼───────────────┤\n",
              "│ dense_1 (\u001b[38;5;33mDense\u001b[0m)                 │ (\u001b[38;5;45mNone\u001b[0m, \u001b[38;5;34m10\u001b[0m)             │         \u001b[38;5;34m5,130\u001b[0m │\n",
              "└─────────────────────────────────┴────────────────────────┴───────────────┘\n"
            ],
            "text/html": [
              "<pre style=\"white-space:pre;overflow-x:auto;line-height:normal;font-family:Menlo,'DejaVu Sans Mono',consolas,'Courier New',monospace\">┏━━━━━━━━━━━━━━━━━━━━━━━━━━━━━━━━━┳━━━━━━━━━━━━━━━━━━━━━━━━┳━━━━━━━━━━━━━━━┓\n",
              "┃<span style=\"font-weight: bold\"> Layer (type)                    </span>┃<span style=\"font-weight: bold\"> Output Shape           </span>┃<span style=\"font-weight: bold\">       Param # </span>┃\n",
              "┡━━━━━━━━━━━━━━━━━━━━━━━━━━━━━━━━━╇━━━━━━━━━━━━━━━━━━━━━━━━╇━━━━━━━━━━━━━━━┩\n",
              "│ conv2d (<span style=\"color: #0087ff; text-decoration-color: #0087ff\">Conv2D</span>)                 │ (<span style=\"color: #00d7ff; text-decoration-color: #00d7ff\">None</span>, <span style=\"color: #00af00; text-decoration-color: #00af00\">32</span>, <span style=\"color: #00af00; text-decoration-color: #00af00\">32</span>, <span style=\"color: #00af00; text-decoration-color: #00af00\">32</span>)     │           <span style=\"color: #00af00; text-decoration-color: #00af00\">896</span> │\n",
              "├─────────────────────────────────┼────────────────────────┼───────────────┤\n",
              "│ batch_normalization             │ (<span style=\"color: #00d7ff; text-decoration-color: #00d7ff\">None</span>, <span style=\"color: #00af00; text-decoration-color: #00af00\">32</span>, <span style=\"color: #00af00; text-decoration-color: #00af00\">32</span>, <span style=\"color: #00af00; text-decoration-color: #00af00\">32</span>)     │           <span style=\"color: #00af00; text-decoration-color: #00af00\">128</span> │\n",
              "│ (<span style=\"color: #0087ff; text-decoration-color: #0087ff\">BatchNormalization</span>)            │                        │               │\n",
              "├─────────────────────────────────┼────────────────────────┼───────────────┤\n",
              "│ conv2d_1 (<span style=\"color: #0087ff; text-decoration-color: #0087ff\">Conv2D</span>)               │ (<span style=\"color: #00d7ff; text-decoration-color: #00d7ff\">None</span>, <span style=\"color: #00af00; text-decoration-color: #00af00\">32</span>, <span style=\"color: #00af00; text-decoration-color: #00af00\">32</span>, <span style=\"color: #00af00; text-decoration-color: #00af00\">32</span>)     │         <span style=\"color: #00af00; text-decoration-color: #00af00\">9,248</span> │\n",
              "├─────────────────────────────────┼────────────────────────┼───────────────┤\n",
              "│ max_pooling2d (<span style=\"color: #0087ff; text-decoration-color: #0087ff\">MaxPooling2D</span>)    │ (<span style=\"color: #00d7ff; text-decoration-color: #00d7ff\">None</span>, <span style=\"color: #00af00; text-decoration-color: #00af00\">16</span>, <span style=\"color: #00af00; text-decoration-color: #00af00\">16</span>, <span style=\"color: #00af00; text-decoration-color: #00af00\">32</span>)     │             <span style=\"color: #00af00; text-decoration-color: #00af00\">0</span> │\n",
              "├─────────────────────────────────┼────────────────────────┼───────────────┤\n",
              "│ dropout (<span style=\"color: #0087ff; text-decoration-color: #0087ff\">Dropout</span>)               │ (<span style=\"color: #00d7ff; text-decoration-color: #00d7ff\">None</span>, <span style=\"color: #00af00; text-decoration-color: #00af00\">16</span>, <span style=\"color: #00af00; text-decoration-color: #00af00\">16</span>, <span style=\"color: #00af00; text-decoration-color: #00af00\">32</span>)     │             <span style=\"color: #00af00; text-decoration-color: #00af00\">0</span> │\n",
              "├─────────────────────────────────┼────────────────────────┼───────────────┤\n",
              "│ conv2d_2 (<span style=\"color: #0087ff; text-decoration-color: #0087ff\">Conv2D</span>)               │ (<span style=\"color: #00d7ff; text-decoration-color: #00d7ff\">None</span>, <span style=\"color: #00af00; text-decoration-color: #00af00\">16</span>, <span style=\"color: #00af00; text-decoration-color: #00af00\">16</span>, <span style=\"color: #00af00; text-decoration-color: #00af00\">64</span>)     │        <span style=\"color: #00af00; text-decoration-color: #00af00\">18,496</span> │\n",
              "├─────────────────────────────────┼────────────────────────┼───────────────┤\n",
              "│ batch_normalization_1           │ (<span style=\"color: #00d7ff; text-decoration-color: #00d7ff\">None</span>, <span style=\"color: #00af00; text-decoration-color: #00af00\">16</span>, <span style=\"color: #00af00; text-decoration-color: #00af00\">16</span>, <span style=\"color: #00af00; text-decoration-color: #00af00\">64</span>)     │           <span style=\"color: #00af00; text-decoration-color: #00af00\">256</span> │\n",
              "│ (<span style=\"color: #0087ff; text-decoration-color: #0087ff\">BatchNormalization</span>)            │                        │               │\n",
              "├─────────────────────────────────┼────────────────────────┼───────────────┤\n",
              "│ conv2d_3 (<span style=\"color: #0087ff; text-decoration-color: #0087ff\">Conv2D</span>)               │ (<span style=\"color: #00d7ff; text-decoration-color: #00d7ff\">None</span>, <span style=\"color: #00af00; text-decoration-color: #00af00\">16</span>, <span style=\"color: #00af00; text-decoration-color: #00af00\">16</span>, <span style=\"color: #00af00; text-decoration-color: #00af00\">64</span>)     │        <span style=\"color: #00af00; text-decoration-color: #00af00\">36,928</span> │\n",
              "├─────────────────────────────────┼────────────────────────┼───────────────┤\n",
              "│ max_pooling2d_1 (<span style=\"color: #0087ff; text-decoration-color: #0087ff\">MaxPooling2D</span>)  │ (<span style=\"color: #00d7ff; text-decoration-color: #00d7ff\">None</span>, <span style=\"color: #00af00; text-decoration-color: #00af00\">8</span>, <span style=\"color: #00af00; text-decoration-color: #00af00\">8</span>, <span style=\"color: #00af00; text-decoration-color: #00af00\">64</span>)       │             <span style=\"color: #00af00; text-decoration-color: #00af00\">0</span> │\n",
              "├─────────────────────────────────┼────────────────────────┼───────────────┤\n",
              "│ dropout_1 (<span style=\"color: #0087ff; text-decoration-color: #0087ff\">Dropout</span>)             │ (<span style=\"color: #00d7ff; text-decoration-color: #00d7ff\">None</span>, <span style=\"color: #00af00; text-decoration-color: #00af00\">8</span>, <span style=\"color: #00af00; text-decoration-color: #00af00\">8</span>, <span style=\"color: #00af00; text-decoration-color: #00af00\">64</span>)       │             <span style=\"color: #00af00; text-decoration-color: #00af00\">0</span> │\n",
              "├─────────────────────────────────┼────────────────────────┼───────────────┤\n",
              "│ flatten (<span style=\"color: #0087ff; text-decoration-color: #0087ff\">Flatten</span>)               │ (<span style=\"color: #00d7ff; text-decoration-color: #00d7ff\">None</span>, <span style=\"color: #00af00; text-decoration-color: #00af00\">4096</span>)           │             <span style=\"color: #00af00; text-decoration-color: #00af00\">0</span> │\n",
              "├─────────────────────────────────┼────────────────────────┼───────────────┤\n",
              "│ dense (<span style=\"color: #0087ff; text-decoration-color: #0087ff\">Dense</span>)                   │ (<span style=\"color: #00d7ff; text-decoration-color: #00d7ff\">None</span>, <span style=\"color: #00af00; text-decoration-color: #00af00\">512</span>)            │     <span style=\"color: #00af00; text-decoration-color: #00af00\">2,097,664</span> │\n",
              "├─────────────────────────────────┼────────────────────────┼───────────────┤\n",
              "│ dropout_2 (<span style=\"color: #0087ff; text-decoration-color: #0087ff\">Dropout</span>)             │ (<span style=\"color: #00d7ff; text-decoration-color: #00d7ff\">None</span>, <span style=\"color: #00af00; text-decoration-color: #00af00\">512</span>)            │             <span style=\"color: #00af00; text-decoration-color: #00af00\">0</span> │\n",
              "├─────────────────────────────────┼────────────────────────┼───────────────┤\n",
              "│ dense_1 (<span style=\"color: #0087ff; text-decoration-color: #0087ff\">Dense</span>)                 │ (<span style=\"color: #00d7ff; text-decoration-color: #00d7ff\">None</span>, <span style=\"color: #00af00; text-decoration-color: #00af00\">10</span>)             │         <span style=\"color: #00af00; text-decoration-color: #00af00\">5,130</span> │\n",
              "└─────────────────────────────────┴────────────────────────┴───────────────┘\n",
              "</pre>\n"
            ]
          },
          "metadata": {}
        },
        {
          "output_type": "display_data",
          "data": {
            "text/plain": [
              "\u001b[1m Total params: \u001b[0m\u001b[38;5;34m2,168,746\u001b[0m (8.27 MB)\n"
            ],
            "text/html": [
              "<pre style=\"white-space:pre;overflow-x:auto;line-height:normal;font-family:Menlo,'DejaVu Sans Mono',consolas,'Courier New',monospace\"><span style=\"font-weight: bold\"> Total params: </span><span style=\"color: #00af00; text-decoration-color: #00af00\">2,168,746</span> (8.27 MB)\n",
              "</pre>\n"
            ]
          },
          "metadata": {}
        },
        {
          "output_type": "display_data",
          "data": {
            "text/plain": [
              "\u001b[1m Trainable params: \u001b[0m\u001b[38;5;34m2,168,554\u001b[0m (8.27 MB)\n"
            ],
            "text/html": [
              "<pre style=\"white-space:pre;overflow-x:auto;line-height:normal;font-family:Menlo,'DejaVu Sans Mono',consolas,'Courier New',monospace\"><span style=\"font-weight: bold\"> Trainable params: </span><span style=\"color: #00af00; text-decoration-color: #00af00\">2,168,554</span> (8.27 MB)\n",
              "</pre>\n"
            ]
          },
          "metadata": {}
        },
        {
          "output_type": "display_data",
          "data": {
            "text/plain": [
              "\u001b[1m Non-trainable params: \u001b[0m\u001b[38;5;34m192\u001b[0m (768.00 B)\n"
            ],
            "text/html": [
              "<pre style=\"white-space:pre;overflow-x:auto;line-height:normal;font-family:Menlo,'DejaVu Sans Mono',consolas,'Courier New',monospace\"><span style=\"font-weight: bold\"> Non-trainable params: </span><span style=\"color: #00af00; text-decoration-color: #00af00\">192</span> (768.00 B)\n",
              "</pre>\n"
            ]
          },
          "metadata": {}
        }
      ],
      "source": [
        "model.summary()"
      ]
    },
    {
      "cell_type": "code",
      "execution_count": 23,
      "metadata": {
        "id": "9ua8hWDFaPTO"
      },
      "outputs": [],
      "source": [
        "model.compile(\n",
        "    optimizer=\"adam\",\n",
        "    loss = 'sparse_categorical_crossentropy',\n",
        "    metrics=['accuracy']\n",
        ")"
      ]
    },
    {
      "cell_type": "code",
      "execution_count": 24,
      "metadata": {
        "id": "JtppSBO0aig4"
      },
      "outputs": [],
      "source": [
        "callback1 = keras.callbacks.EarlyStopping(\n",
        "    monitor=\"val_accuracy\",\n",
        "    patience=5\n",
        ")"
      ]
    },
    {
      "cell_type": "code",
      "execution_count": 25,
      "metadata": {
        "colab": {
          "base_uri": "https://localhost:8080/"
        },
        "id": "wLe7Nx6WbalO",
        "outputId": "b1216a23-dbbd-476b-9c6d-c5478932a088"
      },
      "outputs": [
        {
          "output_type": "stream",
          "name": "stdout",
          "text": [
            "Epoch 1/100\n",
            "\u001b[1m782/782\u001b[0m \u001b[32m━━━━━━━━━━━━━━━━━━━━\u001b[0m\u001b[37m\u001b[0m \u001b[1m23s\u001b[0m 14ms/step - accuracy: 0.2926 - loss: 2.1636 - val_accuracy: 0.4832 - val_loss: 1.3959\n",
            "Epoch 2/100\n",
            "\u001b[1m782/782\u001b[0m \u001b[32m━━━━━━━━━━━━━━━━━━━━\u001b[0m\u001b[37m\u001b[0m \u001b[1m10s\u001b[0m 7ms/step - accuracy: 0.4886 - loss: 1.3909 - val_accuracy: 0.5326 - val_loss: 1.3355\n",
            "Epoch 3/100\n",
            "\u001b[1m782/782\u001b[0m \u001b[32m━━━━━━━━━━━━━━━━━━━━\u001b[0m\u001b[37m\u001b[0m \u001b[1m10s\u001b[0m 7ms/step - accuracy: 0.5902 - loss: 1.1581 - val_accuracy: 0.6710 - val_loss: 0.9451\n",
            "Epoch 4/100\n",
            "\u001b[1m782/782\u001b[0m \u001b[32m━━━━━━━━━━━━━━━━━━━━\u001b[0m\u001b[37m\u001b[0m \u001b[1m10s\u001b[0m 7ms/step - accuracy: 0.6494 - loss: 1.0068 - val_accuracy: 0.7054 - val_loss: 0.8668\n",
            "Epoch 5/100\n",
            "\u001b[1m782/782\u001b[0m \u001b[32m━━━━━━━━━━━━━━━━━━━━\u001b[0m\u001b[37m\u001b[0m \u001b[1m11s\u001b[0m 8ms/step - accuracy: 0.6811 - loss: 0.9114 - val_accuracy: 0.7309 - val_loss: 0.7955\n",
            "Epoch 6/100\n",
            "\u001b[1m782/782\u001b[0m \u001b[32m━━━━━━━━━━━━━━━━━━━━\u001b[0m\u001b[37m\u001b[0m \u001b[1m9s\u001b[0m 7ms/step - accuracy: 0.7071 - loss: 0.8432 - val_accuracy: 0.7328 - val_loss: 0.7817\n",
            "Epoch 7/100\n",
            "\u001b[1m782/782\u001b[0m \u001b[32m━━━━━━━━━━━━━━━━━━━━\u001b[0m\u001b[37m\u001b[0m \u001b[1m6s\u001b[0m 8ms/step - accuracy: 0.7337 - loss: 0.7712 - val_accuracy: 0.7255 - val_loss: 0.8084\n",
            "Epoch 8/100\n",
            "\u001b[1m782/782\u001b[0m \u001b[32m━━━━━━━━━━━━━━━━━━━━\u001b[0m\u001b[37m\u001b[0m \u001b[1m10s\u001b[0m 7ms/step - accuracy: 0.7516 - loss: 0.7084 - val_accuracy: 0.7302 - val_loss: 0.8063\n",
            "Epoch 9/100\n",
            "\u001b[1m782/782\u001b[0m \u001b[32m━━━━━━━━━━━━━━━━━━━━\u001b[0m\u001b[37m\u001b[0m \u001b[1m6s\u001b[0m 7ms/step - accuracy: 0.7675 - loss: 0.6766 - val_accuracy: 0.7602 - val_loss: 0.7246\n",
            "Epoch 10/100\n",
            "\u001b[1m782/782\u001b[0m \u001b[32m━━━━━━━━━━━━━━━━━━━━\u001b[0m\u001b[37m\u001b[0m \u001b[1m6s\u001b[0m 7ms/step - accuracy: 0.7781 - loss: 0.6419 - val_accuracy: 0.7618 - val_loss: 0.6924\n",
            "Epoch 11/100\n",
            "\u001b[1m782/782\u001b[0m \u001b[32m━━━━━━━━━━━━━━━━━━━━\u001b[0m\u001b[37m\u001b[0m \u001b[1m5s\u001b[0m 7ms/step - accuracy: 0.7892 - loss: 0.6080 - val_accuracy: 0.7562 - val_loss: 0.7095\n",
            "Epoch 12/100\n",
            "\u001b[1m782/782\u001b[0m \u001b[32m━━━━━━━━━━━━━━━━━━━━\u001b[0m\u001b[37m\u001b[0m \u001b[1m6s\u001b[0m 7ms/step - accuracy: 0.7991 - loss: 0.5752 - val_accuracy: 0.7567 - val_loss: 0.7429\n",
            "Epoch 13/100\n",
            "\u001b[1m782/782\u001b[0m \u001b[32m━━━━━━━━━━━━━━━━━━━━\u001b[0m\u001b[37m\u001b[0m \u001b[1m10s\u001b[0m 7ms/step - accuracy: 0.8117 - loss: 0.5434 - val_accuracy: 0.7721 - val_loss: 0.6978\n",
            "Epoch 14/100\n",
            "\u001b[1m782/782\u001b[0m \u001b[32m━━━━━━━━━━━━━━━━━━━━\u001b[0m\u001b[37m\u001b[0m \u001b[1m10s\u001b[0m 7ms/step - accuracy: 0.8208 - loss: 0.5226 - val_accuracy: 0.7967 - val_loss: 0.6114\n",
            "Epoch 15/100\n",
            "\u001b[1m782/782\u001b[0m \u001b[32m━━━━━━━━━━━━━━━━━━━━\u001b[0m\u001b[37m\u001b[0m \u001b[1m10s\u001b[0m 7ms/step - accuracy: 0.8284 - loss: 0.4920 - val_accuracy: 0.7996 - val_loss: 0.6038\n",
            "Epoch 16/100\n",
            "\u001b[1m782/782\u001b[0m \u001b[32m━━━━━━━━━━━━━━━━━━━━\u001b[0m\u001b[37m\u001b[0m \u001b[1m10s\u001b[0m 7ms/step - accuracy: 0.8360 - loss: 0.4725 - val_accuracy: 0.7994 - val_loss: 0.6212\n",
            "Epoch 17/100\n",
            "\u001b[1m782/782\u001b[0m \u001b[32m━━━━━━━━━━━━━━━━━━━━\u001b[0m\u001b[37m\u001b[0m \u001b[1m10s\u001b[0m 7ms/step - accuracy: 0.8444 - loss: 0.4417 - val_accuracy: 0.8026 - val_loss: 0.6222\n",
            "Epoch 18/100\n",
            "\u001b[1m782/782\u001b[0m \u001b[32m━━━━━━━━━━━━━━━━━━━━\u001b[0m\u001b[37m\u001b[0m \u001b[1m6s\u001b[0m 7ms/step - accuracy: 0.8517 - loss: 0.4259 - val_accuracy: 0.8070 - val_loss: 0.6006\n",
            "Epoch 19/100\n",
            "\u001b[1m782/782\u001b[0m \u001b[32m━━━━━━━━━━━━━━━━━━━━\u001b[0m\u001b[37m\u001b[0m \u001b[1m6s\u001b[0m 7ms/step - accuracy: 0.8545 - loss: 0.4123 - val_accuracy: 0.7986 - val_loss: 0.6247\n",
            "Epoch 20/100\n",
            "\u001b[1m782/782\u001b[0m \u001b[32m━━━━━━━━━━━━━━━━━━━━\u001b[0m\u001b[37m\u001b[0m \u001b[1m6s\u001b[0m 7ms/step - accuracy: 0.8590 - loss: 0.3943 - val_accuracy: 0.7996 - val_loss: 0.6274\n",
            "Epoch 21/100\n",
            "\u001b[1m782/782\u001b[0m \u001b[32m━━━━━━━━━━━━━━━━━━━━\u001b[0m\u001b[37m\u001b[0m \u001b[1m6s\u001b[0m 7ms/step - accuracy: 0.8648 - loss: 0.3870 - val_accuracy: 0.7939 - val_loss: 0.6888\n",
            "Epoch 22/100\n",
            "\u001b[1m782/782\u001b[0m \u001b[32m━━━━━━━━━━━━━━━━━━━━\u001b[0m\u001b[37m\u001b[0m \u001b[1m11s\u001b[0m 8ms/step - accuracy: 0.8677 - loss: 0.3809 - val_accuracy: 0.7936 - val_loss: 0.6713\n",
            "Epoch 23/100\n",
            "\u001b[1m782/782\u001b[0m \u001b[32m━━━━━━━━━━━━━━━━━━━━\u001b[0m\u001b[37m\u001b[0m \u001b[1m10s\u001b[0m 7ms/step - accuracy: 0.8724 - loss: 0.3633 - val_accuracy: 0.8111 - val_loss: 0.6188\n",
            "Epoch 24/100\n",
            "\u001b[1m782/782\u001b[0m \u001b[32m━━━━━━━━━━━━━━━━━━━━\u001b[0m\u001b[37m\u001b[0m \u001b[1m10s\u001b[0m 7ms/step - accuracy: 0.8794 - loss: 0.3452 - val_accuracy: 0.7843 - val_loss: 0.6798\n",
            "Epoch 25/100\n",
            "\u001b[1m782/782\u001b[0m \u001b[32m━━━━━━━━━━━━━━━━━━━━\u001b[0m\u001b[37m\u001b[0m \u001b[1m10s\u001b[0m 7ms/step - accuracy: 0.8844 - loss: 0.3352 - val_accuracy: 0.7941 - val_loss: 0.6721\n",
            "Epoch 26/100\n",
            "\u001b[1m782/782\u001b[0m \u001b[32m━━━━━━━━━━━━━━━━━━━━\u001b[0m\u001b[37m\u001b[0m \u001b[1m6s\u001b[0m 7ms/step - accuracy: 0.8876 - loss: 0.3201 - val_accuracy: 0.8120 - val_loss: 0.6121\n",
            "Epoch 27/100\n",
            "\u001b[1m782/782\u001b[0m \u001b[32m━━━━━━━━━━━━━━━━━━━━\u001b[0m\u001b[37m\u001b[0m \u001b[1m6s\u001b[0m 7ms/step - accuracy: 0.8903 - loss: 0.3198 - val_accuracy: 0.8118 - val_loss: 0.6349\n",
            "Epoch 28/100\n",
            "\u001b[1m782/782\u001b[0m \u001b[32m━━━━━━━━━━━━━━━━━━━━\u001b[0m\u001b[37m\u001b[0m \u001b[1m6s\u001b[0m 8ms/step - accuracy: 0.8929 - loss: 0.3105 - val_accuracy: 0.8127 - val_loss: 0.6251\n",
            "Epoch 29/100\n",
            "\u001b[1m782/782\u001b[0m \u001b[32m━━━━━━━━━━━━━━━━━━━━\u001b[0m\u001b[37m\u001b[0m \u001b[1m10s\u001b[0m 7ms/step - accuracy: 0.8957 - loss: 0.3025 - val_accuracy: 0.8187 - val_loss: 0.6192\n",
            "Epoch 30/100\n",
            "\u001b[1m782/782\u001b[0m \u001b[32m━━━━━━━━━━━━━━━━━━━━\u001b[0m\u001b[37m\u001b[0m \u001b[1m5s\u001b[0m 7ms/step - accuracy: 0.8998 - loss: 0.2877 - val_accuracy: 0.8042 - val_loss: 0.6895\n",
            "Epoch 31/100\n",
            "\u001b[1m782/782\u001b[0m \u001b[32m━━━━━━━━━━━━━━━━━━━━\u001b[0m\u001b[37m\u001b[0m \u001b[1m6s\u001b[0m 7ms/step - accuracy: 0.9018 - loss: 0.2880 - val_accuracy: 0.8182 - val_loss: 0.6166\n",
            "Epoch 32/100\n",
            "\u001b[1m782/782\u001b[0m \u001b[32m━━━━━━━━━━━━━━━━━━━━\u001b[0m\u001b[37m\u001b[0m \u001b[1m5s\u001b[0m 7ms/step - accuracy: 0.9053 - loss: 0.2684 - val_accuracy: 0.8200 - val_loss: 0.6772\n",
            "Epoch 33/100\n",
            "\u001b[1m782/782\u001b[0m \u001b[32m━━━━━━━━━━━━━━━━━━━━\u001b[0m\u001b[37m\u001b[0m \u001b[1m6s\u001b[0m 7ms/step - accuracy: 0.9060 - loss: 0.2749 - val_accuracy: 0.8137 - val_loss: 0.6383\n",
            "Epoch 34/100\n",
            "\u001b[1m782/782\u001b[0m \u001b[32m━━━━━━━━━━━━━━━━━━━━\u001b[0m\u001b[37m\u001b[0m \u001b[1m10s\u001b[0m 7ms/step - accuracy: 0.9074 - loss: 0.2716 - val_accuracy: 0.8120 - val_loss: 0.6228\n",
            "Epoch 35/100\n",
            "\u001b[1m782/782\u001b[0m \u001b[32m━━━━━━━━━━━━━━━━━━━━\u001b[0m\u001b[37m\u001b[0m \u001b[1m10s\u001b[0m 7ms/step - accuracy: 0.9092 - loss: 0.2635 - val_accuracy: 0.8079 - val_loss: 0.6612\n",
            "Epoch 36/100\n",
            "\u001b[1m782/782\u001b[0m \u001b[32m━━━━━━━━━━━━━━━━━━━━\u001b[0m\u001b[37m\u001b[0m \u001b[1m10s\u001b[0m 7ms/step - accuracy: 0.9145 - loss: 0.2500 - val_accuracy: 0.8222 - val_loss: 0.6255\n",
            "Epoch 37/100\n",
            "\u001b[1m782/782\u001b[0m \u001b[32m━━━━━━━━━━━━━━━━━━━━\u001b[0m\u001b[37m\u001b[0m \u001b[1m10s\u001b[0m 7ms/step - accuracy: 0.9176 - loss: 0.2381 - val_accuracy: 0.8041 - val_loss: 0.7137\n",
            "Epoch 38/100\n",
            "\u001b[1m782/782\u001b[0m \u001b[32m━━━━━━━━━━━━━━━━━━━━\u001b[0m\u001b[37m\u001b[0m \u001b[1m11s\u001b[0m 7ms/step - accuracy: 0.9168 - loss: 0.2400 - val_accuracy: 0.8222 - val_loss: 0.6348\n",
            "Epoch 39/100\n",
            "\u001b[1m782/782\u001b[0m \u001b[32m━━━━━━━━━━━━━━━━━━━━\u001b[0m\u001b[37m\u001b[0m \u001b[1m6s\u001b[0m 7ms/step - accuracy: 0.9209 - loss: 0.2303 - val_accuracy: 0.8223 - val_loss: 0.6269\n",
            "Epoch 40/100\n",
            "\u001b[1m782/782\u001b[0m \u001b[32m━━━━━━━━━━━━━━━━━━━━\u001b[0m\u001b[37m\u001b[0m \u001b[1m6s\u001b[0m 7ms/step - accuracy: 0.9226 - loss: 0.2247 - val_accuracy: 0.8203 - val_loss: 0.6646\n",
            "Epoch 41/100\n",
            "\u001b[1m782/782\u001b[0m \u001b[32m━━━━━━━━━━━━━━━━━━━━\u001b[0m\u001b[37m\u001b[0m \u001b[1m10s\u001b[0m 7ms/step - accuracy: 0.9220 - loss: 0.2240 - val_accuracy: 0.8253 - val_loss: 0.6408\n",
            "Epoch 42/100\n",
            "\u001b[1m782/782\u001b[0m \u001b[32m━━━━━━━━━━━━━━━━━━━━\u001b[0m\u001b[37m\u001b[0m \u001b[1m10s\u001b[0m 8ms/step - accuracy: 0.9214 - loss: 0.2306 - val_accuracy: 0.8223 - val_loss: 0.6699\n",
            "Epoch 43/100\n",
            "\u001b[1m782/782\u001b[0m \u001b[32m━━━━━━━━━━━━━━━━━━━━\u001b[0m\u001b[37m\u001b[0m \u001b[1m10s\u001b[0m 7ms/step - accuracy: 0.9281 - loss: 0.2193 - val_accuracy: 0.8201 - val_loss: 0.6768\n",
            "Epoch 44/100\n",
            "\u001b[1m782/782\u001b[0m \u001b[32m━━━━━━━━━━━━━━━━━━━━\u001b[0m\u001b[37m\u001b[0m \u001b[1m10s\u001b[0m 7ms/step - accuracy: 0.9247 - loss: 0.2148 - val_accuracy: 0.8283 - val_loss: 0.6434\n",
            "Epoch 45/100\n",
            "\u001b[1m782/782\u001b[0m \u001b[32m━━━━━━━━━━━━━━━━━━━━\u001b[0m\u001b[37m\u001b[0m \u001b[1m6s\u001b[0m 7ms/step - accuracy: 0.9310 - loss: 0.2050 - val_accuracy: 0.8247 - val_loss: 0.6414\n",
            "Epoch 46/100\n",
            "\u001b[1m782/782\u001b[0m \u001b[32m━━━━━━━━━━━━━━━━━━━━\u001b[0m\u001b[37m\u001b[0m \u001b[1m10s\u001b[0m 7ms/step - accuracy: 0.9331 - loss: 0.2015 - val_accuracy: 0.8218 - val_loss: 0.6473\n",
            "Epoch 47/100\n",
            "\u001b[1m782/782\u001b[0m \u001b[32m━━━━━━━━━━━━━━━━━━━━\u001b[0m\u001b[37m\u001b[0m \u001b[1m5s\u001b[0m 7ms/step - accuracy: 0.9274 - loss: 0.2102 - val_accuracy: 0.8219 - val_loss: 0.6517\n",
            "Epoch 48/100\n",
            "\u001b[1m782/782\u001b[0m \u001b[32m━━━━━━━━━━━━━━━━━━━━\u001b[0m\u001b[37m\u001b[0m \u001b[1m10s\u001b[0m 7ms/step - accuracy: 0.9294 - loss: 0.2024 - val_accuracy: 0.8194 - val_loss: 0.6474\n",
            "Epoch 49/100\n",
            "\u001b[1m782/782\u001b[0m \u001b[32m━━━━━━━━━━━━━━━━━━━━\u001b[0m\u001b[37m\u001b[0m \u001b[1m6s\u001b[0m 7ms/step - accuracy: 0.9343 - loss: 0.1965 - val_accuracy: 0.8180 - val_loss: 0.6861\n",
            "Epoch 50/100\n",
            "\u001b[1m782/782\u001b[0m \u001b[32m━━━━━━━━━━━━━━━━━━━━\u001b[0m\u001b[37m\u001b[0m \u001b[1m6s\u001b[0m 7ms/step - accuracy: 0.9347 - loss: 0.1953 - val_accuracy: 0.8168 - val_loss: 0.6627\n",
            "Epoch 51/100\n",
            "\u001b[1m782/782\u001b[0m \u001b[32m━━━━━━━━━━━━━━━━━━━━\u001b[0m\u001b[37m\u001b[0m \u001b[1m6s\u001b[0m 7ms/step - accuracy: 0.9354 - loss: 0.1927 - val_accuracy: 0.8279 - val_loss: 0.6308\n",
            "Epoch 52/100\n",
            "\u001b[1m782/782\u001b[0m \u001b[32m━━━━━━━━━━━━━━━━━━━━\u001b[0m\u001b[37m\u001b[0m \u001b[1m10s\u001b[0m 7ms/step - accuracy: 0.9375 - loss: 0.1830 - val_accuracy: 0.8168 - val_loss: 0.6683\n",
            "Epoch 53/100\n",
            "\u001b[1m782/782\u001b[0m \u001b[32m━━━━━━━━━━━━━━━━━━━━\u001b[0m\u001b[37m\u001b[0m \u001b[1m10s\u001b[0m 7ms/step - accuracy: 0.9359 - loss: 0.1907 - val_accuracy: 0.8245 - val_loss: 0.6602\n",
            "Epoch 54/100\n",
            "\u001b[1m782/782\u001b[0m \u001b[32m━━━━━━━━━━━━━━━━━━━━\u001b[0m\u001b[37m\u001b[0m \u001b[1m6s\u001b[0m 7ms/step - accuracy: 0.9391 - loss: 0.1817 - val_accuracy: 0.8261 - val_loss: 0.6723\n",
            "Epoch 55/100\n",
            "\u001b[1m782/782\u001b[0m \u001b[32m━━━━━━━━━━━━━━━━━━━━\u001b[0m\u001b[37m\u001b[0m \u001b[1m5s\u001b[0m 7ms/step - accuracy: 0.9410 - loss: 0.1764 - val_accuracy: 0.8244 - val_loss: 0.6598\n",
            "Epoch 56/100\n",
            "\u001b[1m782/782\u001b[0m \u001b[32m━━━━━━━━━━━━━━━━━━━━\u001b[0m\u001b[37m\u001b[0m \u001b[1m6s\u001b[0m 7ms/step - accuracy: 0.9397 - loss: 0.1766 - val_accuracy: 0.8150 - val_loss: 0.7203\n",
            "Epoch 57/100\n",
            "\u001b[1m782/782\u001b[0m \u001b[32m━━━━━━━━━━━━━━━━━━━━\u001b[0m\u001b[37m\u001b[0m \u001b[1m10s\u001b[0m 7ms/step - accuracy: 0.9413 - loss: 0.1712 - val_accuracy: 0.8214 - val_loss: 0.6872\n",
            "Epoch 58/100\n",
            "\u001b[1m782/782\u001b[0m \u001b[32m━━━━━━━━━━━━━━━━━━━━\u001b[0m\u001b[37m\u001b[0m \u001b[1m6s\u001b[0m 7ms/step - accuracy: 0.9408 - loss: 0.1722 - val_accuracy: 0.8252 - val_loss: 0.6805\n",
            "Epoch 59/100\n",
            "\u001b[1m782/782\u001b[0m \u001b[32m━━━━━━━━━━━━━━━━━━━━\u001b[0m\u001b[37m\u001b[0m \u001b[1m11s\u001b[0m 8ms/step - accuracy: 0.9418 - loss: 0.1703 - val_accuracy: 0.8248 - val_loss: 0.6541\n",
            "Epoch 60/100\n",
            "\u001b[1m782/782\u001b[0m \u001b[32m━━━━━━━━━━━━━━━━━━━━\u001b[0m\u001b[37m\u001b[0m \u001b[1m10s\u001b[0m 7ms/step - accuracy: 0.9425 - loss: 0.1717 - val_accuracy: 0.8256 - val_loss: 0.6920\n",
            "Epoch 61/100\n",
            "\u001b[1m782/782\u001b[0m \u001b[32m━━━━━━━━━━━━━━━━━━━━\u001b[0m\u001b[37m\u001b[0m \u001b[1m10s\u001b[0m 7ms/step - accuracy: 0.9438 - loss: 0.1649 - val_accuracy: 0.8211 - val_loss: 0.6833\n",
            "Epoch 62/100\n",
            "\u001b[1m782/782\u001b[0m \u001b[32m━━━━━━━━━━━━━━━━━━━━\u001b[0m\u001b[37m\u001b[0m \u001b[1m6s\u001b[0m 7ms/step - accuracy: 0.9442 - loss: 0.1673 - val_accuracy: 0.8229 - val_loss: 0.6427\n",
            "Epoch 63/100\n",
            "\u001b[1m782/782\u001b[0m \u001b[32m━━━━━━━━━━━━━━━━━━━━\u001b[0m\u001b[37m\u001b[0m \u001b[1m10s\u001b[0m 7ms/step - accuracy: 0.9444 - loss: 0.1608 - val_accuracy: 0.8157 - val_loss: 0.6844\n",
            "Epoch 64/100\n",
            "\u001b[1m782/782\u001b[0m \u001b[32m━━━━━━━━━━━━━━━━━━━━\u001b[0m\u001b[37m\u001b[0m \u001b[1m10s\u001b[0m 8ms/step - accuracy: 0.9474 - loss: 0.1558 - val_accuracy: 0.8262 - val_loss: 0.6750\n",
            "Epoch 65/100\n",
            "\u001b[1m782/782\u001b[0m \u001b[32m━━━━━━━━━━━━━━━━━━━━\u001b[0m\u001b[37m\u001b[0m \u001b[1m6s\u001b[0m 7ms/step - accuracy: 0.9475 - loss: 0.1584 - val_accuracy: 0.8291 - val_loss: 0.6740\n",
            "Epoch 66/100\n",
            "\u001b[1m782/782\u001b[0m \u001b[32m━━━━━━━━━━━━━━━━━━━━\u001b[0m\u001b[37m\u001b[0m \u001b[1m10s\u001b[0m 7ms/step - accuracy: 0.9493 - loss: 0.1484 - val_accuracy: 0.8273 - val_loss: 0.6625\n",
            "Epoch 67/100\n",
            "\u001b[1m782/782\u001b[0m \u001b[32m━━━━━━━━━━━━━━━━━━━━\u001b[0m\u001b[37m\u001b[0m \u001b[1m6s\u001b[0m 7ms/step - accuracy: 0.9480 - loss: 0.1526 - val_accuracy: 0.8241 - val_loss: 0.6701\n",
            "Epoch 68/100\n",
            "\u001b[1m782/782\u001b[0m \u001b[32m━━━━━━━━━━━━━━━━━━━━\u001b[0m\u001b[37m\u001b[0m \u001b[1m6s\u001b[0m 7ms/step - accuracy: 0.9491 - loss: 0.1519 - val_accuracy: 0.8226 - val_loss: 0.6948\n",
            "Epoch 69/100\n",
            "\u001b[1m782/782\u001b[0m \u001b[32m━━━━━━━━━━━━━━━━━━━━\u001b[0m\u001b[37m\u001b[0m \u001b[1m5s\u001b[0m 7ms/step - accuracy: 0.9466 - loss: 0.1567 - val_accuracy: 0.8290 - val_loss: 0.6976\n",
            "Epoch 70/100\n",
            "\u001b[1m782/782\u001b[0m \u001b[32m━━━━━━━━━━━━━━━━━━━━\u001b[0m\u001b[37m\u001b[0m \u001b[1m10s\u001b[0m 7ms/step - accuracy: 0.9472 - loss: 0.1563 - val_accuracy: 0.8224 - val_loss: 0.7210\n",
            "Epoch 71/100\n",
            "\u001b[1m782/782\u001b[0m \u001b[32m━━━━━━━━━━━━━━━━━━━━\u001b[0m\u001b[37m\u001b[0m \u001b[1m10s\u001b[0m 7ms/step - accuracy: 0.9483 - loss: 0.1537 - val_accuracy: 0.8236 - val_loss: 0.7265\n",
            "Epoch 72/100\n",
            "\u001b[1m782/782\u001b[0m \u001b[32m━━━━━━━━━━━━━━━━━━━━\u001b[0m\u001b[37m\u001b[0m \u001b[1m10s\u001b[0m 7ms/step - accuracy: 0.9507 - loss: 0.1466 - val_accuracy: 0.8242 - val_loss: 0.6991\n",
            "Epoch 73/100\n",
            "\u001b[1m782/782\u001b[0m \u001b[32m━━━━━━━━━━━━━━━━━━━━\u001b[0m\u001b[37m\u001b[0m \u001b[1m6s\u001b[0m 7ms/step - accuracy: 0.9488 - loss: 0.1483 - val_accuracy: 0.8206 - val_loss: 0.6957\n",
            "Epoch 74/100\n",
            "\u001b[1m782/782\u001b[0m \u001b[32m━━━━━━━━━━━━━━━━━━━━\u001b[0m\u001b[37m\u001b[0m \u001b[1m5s\u001b[0m 7ms/step - accuracy: 0.9528 - loss: 0.1407 - val_accuracy: 0.8277 - val_loss: 0.6877\n",
            "Epoch 75/100\n",
            "\u001b[1m782/782\u001b[0m \u001b[32m━━━━━━━━━━━━━━━━━━━━\u001b[0m\u001b[37m\u001b[0m \u001b[1m6s\u001b[0m 8ms/step - accuracy: 0.9533 - loss: 0.1424 - val_accuracy: 0.8218 - val_loss: 0.7512\n",
            "Epoch 76/100\n",
            "\u001b[1m782/782\u001b[0m \u001b[32m━━━━━━━━━━━━━━━━━━━━\u001b[0m\u001b[37m\u001b[0m \u001b[1m6s\u001b[0m 7ms/step - accuracy: 0.9511 - loss: 0.1489 - val_accuracy: 0.8157 - val_loss: 0.7287\n",
            "Epoch 77/100\n",
            "\u001b[1m782/782\u001b[0m \u001b[32m━━━━━━━━━━━━━━━━━━━━\u001b[0m\u001b[37m\u001b[0m \u001b[1m6s\u001b[0m 7ms/step - accuracy: 0.9528 - loss: 0.1377 - val_accuracy: 0.8248 - val_loss: 0.7000\n",
            "Epoch 78/100\n",
            "\u001b[1m782/782\u001b[0m \u001b[32m━━━━━━━━━━━━━━━━━━━━\u001b[0m\u001b[37m\u001b[0m \u001b[1m10s\u001b[0m 7ms/step - accuracy: 0.9491 - loss: 0.1503 - val_accuracy: 0.8284 - val_loss: 0.7298\n",
            "Epoch 79/100\n",
            "\u001b[1m782/782\u001b[0m \u001b[32m━━━━━━━━━━━━━━━━━━━━\u001b[0m\u001b[37m\u001b[0m \u001b[1m10s\u001b[0m 7ms/step - accuracy: 0.9532 - loss: 0.1374 - val_accuracy: 0.8216 - val_loss: 0.7300\n",
            "Epoch 80/100\n",
            "\u001b[1m782/782\u001b[0m \u001b[32m━━━━━━━━━━━━━━━━━━━━\u001b[0m\u001b[37m\u001b[0m \u001b[1m10s\u001b[0m 7ms/step - accuracy: 0.9527 - loss: 0.1394 - val_accuracy: 0.8223 - val_loss: 0.7473\n",
            "Epoch 81/100\n",
            "\u001b[1m782/782\u001b[0m \u001b[32m━━━━━━━━━━━━━━━━━━━━\u001b[0m\u001b[37m\u001b[0m \u001b[1m10s\u001b[0m 7ms/step - accuracy: 0.9566 - loss: 0.1293 - val_accuracy: 0.8163 - val_loss: 0.8236\n",
            "Epoch 82/100\n",
            "\u001b[1m782/782\u001b[0m \u001b[32m━━━━━━━━━━━━━━━━━━━━\u001b[0m\u001b[37m\u001b[0m \u001b[1m6s\u001b[0m 7ms/step - accuracy: 0.9567 - loss: 0.1297 - val_accuracy: 0.8208 - val_loss: 0.7309\n",
            "Epoch 83/100\n",
            "\u001b[1m782/782\u001b[0m \u001b[32m━━━━━━━━━━━━━━━━━━━━\u001b[0m\u001b[37m\u001b[0m \u001b[1m10s\u001b[0m 7ms/step - accuracy: 0.9534 - loss: 0.1345 - val_accuracy: 0.8177 - val_loss: 0.7409\n",
            "Epoch 84/100\n",
            "\u001b[1m782/782\u001b[0m \u001b[32m━━━━━━━━━━━━━━━━━━━━\u001b[0m\u001b[37m\u001b[0m \u001b[1m10s\u001b[0m 7ms/step - accuracy: 0.9555 - loss: 0.1355 - val_accuracy: 0.8217 - val_loss: 0.7472\n",
            "Epoch 85/100\n",
            "\u001b[1m782/782\u001b[0m \u001b[32m━━━━━━━━━━━━━━━━━━━━\u001b[0m\u001b[37m\u001b[0m \u001b[1m10s\u001b[0m 7ms/step - accuracy: 0.9558 - loss: 0.1336 - val_accuracy: 0.8269 - val_loss: 0.7030\n",
            "Epoch 86/100\n",
            "\u001b[1m782/782\u001b[0m \u001b[32m━━━━━━━━━━━━━━━━━━━━\u001b[0m\u001b[37m\u001b[0m \u001b[1m10s\u001b[0m 7ms/step - accuracy: 0.9529 - loss: 0.1338 - val_accuracy: 0.8249 - val_loss: 0.6938\n",
            "Epoch 87/100\n",
            "\u001b[1m782/782\u001b[0m \u001b[32m━━━━━━━━━━━━━━━━━━━━\u001b[0m\u001b[37m\u001b[0m \u001b[1m6s\u001b[0m 7ms/step - accuracy: 0.9555 - loss: 0.1311 - val_accuracy: 0.8190 - val_loss: 0.7519\n",
            "Epoch 88/100\n",
            "\u001b[1m782/782\u001b[0m \u001b[32m━━━━━━━━━━━━━━━━━━━━\u001b[0m\u001b[37m\u001b[0m \u001b[1m5s\u001b[0m 7ms/step - accuracy: 0.9571 - loss: 0.1335 - val_accuracy: 0.8283 - val_loss: 0.7207\n",
            "Epoch 89/100\n",
            "\u001b[1m782/782\u001b[0m \u001b[32m━━━━━━━━━━━━━━━━━━━━\u001b[0m\u001b[37m\u001b[0m \u001b[1m6s\u001b[0m 7ms/step - accuracy: 0.9572 - loss: 0.1257 - val_accuracy: 0.8234 - val_loss: 0.7422\n",
            "Epoch 90/100\n",
            "\u001b[1m782/782\u001b[0m \u001b[32m━━━━━━━━━━━━━━━━━━━━\u001b[0m\u001b[37m\u001b[0m \u001b[1m6s\u001b[0m 7ms/step - accuracy: 0.9573 - loss: 0.1280 - val_accuracy: 0.8283 - val_loss: 0.7292\n",
            "Epoch 91/100\n",
            "\u001b[1m782/782\u001b[0m \u001b[32m━━━━━━━━━━━━━━━━━━━━\u001b[0m\u001b[37m\u001b[0m \u001b[1m10s\u001b[0m 8ms/step - accuracy: 0.9594 - loss: 0.1231 - val_accuracy: 0.8268 - val_loss: 0.7468\n",
            "Epoch 92/100\n",
            "\u001b[1m782/782\u001b[0m \u001b[32m━━━━━━━━━━━━━━━━━━━━\u001b[0m\u001b[37m\u001b[0m \u001b[1m5s\u001b[0m 7ms/step - accuracy: 0.9587 - loss: 0.1251 - val_accuracy: 0.8189 - val_loss: 0.7475\n",
            "Epoch 93/100\n",
            "\u001b[1m782/782\u001b[0m \u001b[32m━━━━━━━━━━━━━━━━━━━━\u001b[0m\u001b[37m\u001b[0m \u001b[1m6s\u001b[0m 7ms/step - accuracy: 0.9573 - loss: 0.1264 - val_accuracy: 0.8300 - val_loss: 0.7356\n",
            "Epoch 94/100\n",
            "\u001b[1m782/782\u001b[0m \u001b[32m━━━━━━━━━━━━━━━━━━━━\u001b[0m\u001b[37m\u001b[0m \u001b[1m6s\u001b[0m 7ms/step - accuracy: 0.9612 - loss: 0.1158 - val_accuracy: 0.8302 - val_loss: 0.6879\n",
            "Epoch 95/100\n",
            "\u001b[1m782/782\u001b[0m \u001b[32m━━━━━━━━━━━━━━━━━━━━\u001b[0m\u001b[37m\u001b[0m \u001b[1m10s\u001b[0m 7ms/step - accuracy: 0.9589 - loss: 0.1234 - val_accuracy: 0.8247 - val_loss: 0.7716\n",
            "Epoch 96/100\n",
            "\u001b[1m782/782\u001b[0m \u001b[32m━━━━━━━━━━━━━━━━━━━━\u001b[0m\u001b[37m\u001b[0m \u001b[1m6s\u001b[0m 7ms/step - accuracy: 0.9597 - loss: 0.1170 - val_accuracy: 0.8268 - val_loss: 0.7465\n",
            "Epoch 97/100\n",
            "\u001b[1m782/782\u001b[0m \u001b[32m━━━━━━━━━━━━━━━━━━━━\u001b[0m\u001b[37m\u001b[0m \u001b[1m10s\u001b[0m 7ms/step - accuracy: 0.9588 - loss: 0.1271 - val_accuracy: 0.8309 - val_loss: 0.7258\n",
            "Epoch 98/100\n",
            "\u001b[1m782/782\u001b[0m \u001b[32m━━━━━━━━━━━━━━━━━━━━\u001b[0m\u001b[37m\u001b[0m \u001b[1m6s\u001b[0m 7ms/step - accuracy: 0.9608 - loss: 0.1161 - val_accuracy: 0.8282 - val_loss: 0.7321\n",
            "Epoch 99/100\n",
            "\u001b[1m782/782\u001b[0m \u001b[32m━━━━━━━━━━━━━━━━━━━━\u001b[0m\u001b[37m\u001b[0m \u001b[1m5s\u001b[0m 7ms/step - accuracy: 0.9587 - loss: 0.1254 - val_accuracy: 0.8345 - val_loss: 0.7464\n",
            "Epoch 100/100\n",
            "\u001b[1m782/782\u001b[0m \u001b[32m━━━━━━━━━━━━━━━━━━━━\u001b[0m\u001b[37m\u001b[0m \u001b[1m6s\u001b[0m 7ms/step - accuracy: 0.9607 - loss: 0.1193 - val_accuracy: 0.8269 - val_loss: 0.8068\n"
          ]
        },
        {
          "output_type": "execute_result",
          "data": {
            "text/plain": [
              "<keras.src.callbacks.history.History at 0x7e0bd9295f10>"
            ]
          },
          "metadata": {},
          "execution_count": 25
        }
      ],
      "source": [
        "model.fit(\n",
        "    x=X_train,\n",
        "    y=Y_train,\n",
        "    batch_size=64,\n",
        "    epochs=100,\n",
        "    verbose=\"auto\",\n",
        "    #callbacks=[callback1],\n",
        "    validation_data=(X_test, Y_test)\n",
        ")"
      ]
    },
    {
      "cell_type": "code",
      "execution_count": 26,
      "metadata": {
        "id": "xSyavwhwdR3y",
        "colab": {
          "base_uri": "https://localhost:8080/"
        },
        "outputId": "3ddd3efb-ccc4-4aac-a7d0-52504a314cc6"
      },
      "outputs": [
        {
          "output_type": "stream",
          "name": "stdout",
          "text": [
            "\u001b[1m157/157\u001b[0m \u001b[32m━━━━━━━━━━━━━━━━━━━━\u001b[0m\u001b[37m\u001b[0m \u001b[1m0s\u001b[0m 3ms/step - accuracy: 0.8278 - loss: 0.8263\n"
          ]
        },
        {
          "output_type": "execute_result",
          "data": {
            "text/plain": [
              "[0.8068011999130249, 0.8269000053405762]"
            ]
          },
          "metadata": {},
          "execution_count": 26
        }
      ],
      "source": [
        "model.evaluate(\n",
        "    x=X_test,\n",
        "    y=Y_test,\n",
        "    batch_size=64,\n",
        "    verbose=\"auto\")"
      ]
    },
    {
      "cell_type": "code",
      "source": [
        "model.predict(\n",
        "    x=X_test,\n",
        "    batch_size=64,\n",
        "    verbose=\"auto\",\n",
        "    callbacks=[callback1]\n",
        "    )"
      ],
      "metadata": {
        "colab": {
          "base_uri": "https://localhost:8080/"
        },
        "id": "Y2crGxIb5B1D",
        "outputId": "7dc7326b-f37f-48cf-988a-a512c7e6d90b"
      },
      "execution_count": 27,
      "outputs": [
        {
          "output_type": "stream",
          "name": "stdout",
          "text": [
            "\u001b[1m157/157\u001b[0m \u001b[32m━━━━━━━━━━━━━━━━━━━━\u001b[0m\u001b[37m\u001b[0m \u001b[1m1s\u001b[0m 6ms/step\n"
          ]
        },
        {
          "output_type": "execute_result",
          "data": {
            "text/plain": [
              "array([[1.2467331e-09, 1.8139148e-11, 1.1237407e-07, ..., 6.1169854e-11,\n",
              "        1.0970027e-09, 4.3105545e-12],\n",
              "       [2.0930526e-13, 2.6860831e-05, 2.3683582e-24, ..., 6.0636310e-34,\n",
              "        9.9997318e-01, 9.9708872e-18],\n",
              "       [3.5090173e-09, 5.6975225e-09, 4.2021240e-20, ..., 5.2360301e-22,\n",
              "        1.0000000e+00, 3.7697775e-13],\n",
              "       ...,\n",
              "       [7.2683908e-16, 2.4971373e-16, 4.5623455e-08, ..., 2.2593144e-07,\n",
              "        7.0544845e-13, 7.9016688e-14],\n",
              "       [3.9888253e-12, 1.0000000e+00, 3.0134369e-14, ..., 1.2784217e-19,\n",
              "        6.6473704e-13, 9.2856660e-11],\n",
              "       [7.9028146e-22, 4.7770757e-28, 1.1106243e-17, ..., 1.0000000e+00,\n",
              "        7.8498502e-28, 4.4366957e-23]], dtype=float32)"
            ]
          },
          "metadata": {},
          "execution_count": 27
        }
      ]
    },
    {
      "cell_type": "code",
      "source": [
        "# CIFAR-10 class labels\n",
        "class_names = ['airplane', 'automobile', 'bird', 'cat', 'deer',\n",
        "               'dog', 'frog', 'horse', 'ship', 'truck']\n",
        "\n",
        "# Pick a test image index (you can change the number)\n",
        "index = 7\n",
        "test_image = X_test[index]\n",
        "true_label = Y_test[index][0]  # original label\n",
        "\n",
        "# Show the image\n",
        "plt.imshow(test_image)\n",
        "plt.title(f\"Actual: {class_names[true_label]}\")\n",
        "plt.axis('off')\n",
        "plt.show()\n",
        "\n",
        "# Reshape image for prediction: (1, 32, 32, 3)\n",
        "img_array = np.expand_dims(test_image, axis=0)\n",
        "\n",
        "# Predict\n",
        "pred_probs = model.predict(img_array)\n",
        "predicted_label = np.argmax(pred_probs)\n",
        "\n",
        "print(f\"Predicted class: {class_names[predicted_label]}\")"
      ],
      "metadata": {
        "id": "rP6sNppB_V8d",
        "colab": {
          "base_uri": "https://localhost:8080/",
          "height": 463
        },
        "outputId": "49eefc33-4e76-4058-e035-a415251f444f"
      },
      "execution_count": 38,
      "outputs": [
        {
          "output_type": "display_data",
          "data": {
            "text/plain": [
              "<Figure size 640x480 with 1 Axes>"
            ],
            "image/png": "[encoded data removed]"
          },
          "metadata": {}
        },
        {
          "output_type": "stream",
          "name": "stdout",
          "text": [
            "\u001b[1m1/1\u001b[0m \u001b[32m━━━━━━━━━━━━━━━━━━━━\u001b[0m\u001b[37m\u001b[0m \u001b[1m0s\u001b[0m 29ms/step\n",
            "Predicted class: frog\n"
          ]
        }
      ]
    }
  ],
  "metadata": {
    "accelerator": "GPU",
    "colab": {
      "gpuType": "T4",
      "provenance": [],
      "authorship_tag": "ABX9TyPHY0RIajlF+nUczZAnXKJi",
      "include_colab_link": true
    },
    "kernelspec": {
      "display_name": "Python 3",
      "name": "python3"
    },
    "language_info": {
      "name": "python"
    }
  },
  "nbformat": 4,
  "nbformat_minor": 0
}