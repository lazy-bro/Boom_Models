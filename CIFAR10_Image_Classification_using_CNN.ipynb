{
  "cells": [
    {
      "cell_type": "markdown",
      "metadata": {
        "id": "view-in-github",
        "colab_type": "text"
      },
      "source": [
        "<a href=\"https://colab.research.google.com/github/lazy-bro/Boom_Models/blob/main/CIFAR10_Image_Classification_using_CNN.ipynb\" target=\"_parent\"><img src=\"https://colab.research.google.com/assets/colab-badge.svg\" alt=\"Open In Colab\"/></a>"
      ]
    },
    {
      "cell_type": "code",
      "execution_count": null,
      "metadata": {
        "id": "wqtV1uR2S5Jh"
      },
      "outputs": [],
      "source": [
        "import keras\n",
        "from keras.layers import Dropout, BatchNormalization"
      ]
    },
    {
      "cell_type": "code",
      "execution_count": null,
      "metadata": {
        "collapsed": true,
        "id": "jBwMR0vaVA5S"
      },
      "outputs": [],
      "source": [
        "(X_train, Y_train), (X_test, Y_test) = keras.datasets.cifar10.load_data()"
      ]
    },
    {
      "cell_type": "code",
      "execution_count": null,
      "metadata": {
        "colab": {
          "base_uri": "https://localhost:8080/"
        },
        "id": "tpQOvBEbVbo6",
        "outputId": "fc3a3bb7-5b7d-458b-c9a7-f5f4986fb458"
      },
      "outputs": [
        {
          "output_type": "execute_result",
          "data": {
            "text/plain": [
              "(10000, 32, 32, 3)"
            ]
          },
          "metadata": {},
          "execution_count": 34
        }
      ],
      "source": [
        "X_test.shape"
      ]
    },
    {
      "cell_type": "code",
      "execution_count": null,
      "metadata": {
        "colab": {
          "base_uri": "https://localhost:8080/"
        },
        "id": "4_1S4nxtVd5B",
        "outputId": "53c3851e-b7bf-4f8b-a10c-b7fae3a6a12d"
      },
      "outputs": [
        {
          "output_type": "execute_result",
          "data": {
            "text/plain": [
              "(10000, 1)"
            ]
          },
          "metadata": {},
          "execution_count": 35
        }
      ],
      "source": [
        "Y_test.shape"
      ]
    },
    {
      "cell_type": "code",
      "execution_count": null,
      "metadata": {
        "colab": {
          "base_uri": "https://localhost:8080/"
        },
        "id": "XNIYkWgsVhBX",
        "outputId": "a59fec31-9694-47b7-9aeb-65fc2939022d"
      },
      "outputs": [
        {
          "output_type": "execute_result",
          "data": {
            "text/plain": [
              "array([0, 1, 2, 3, 4, 5, 6, 7, 8, 9], dtype=uint8)"
            ]
          },
          "metadata": {},
          "execution_count": 36
        }
      ],
      "source": [
        "import matplotlib.pyplot as plt\n",
        "import numpy as np\n",
        "np.unique(Y_test)"
      ]
    },
    {
      "cell_type": "code",
      "execution_count": null,
      "metadata": {
        "colab": {
          "base_uri": "https://localhost:8080/",
          "height": 72
        },
        "id": "e81ZCCU4VqK_",
        "outputId": "0a7bef39-9270-491e-b7c2-5a91ad33b51e"
      },
      "outputs": [
        {
          "output_type": "execute_result",
          "data": {
            "text/plain": [
              "array([[[ 28,  35,  39],\n",
              "        [ 30,  34,  44],\n",
              "        [ 33,  44,  47],\n",
              "        ...,\n",
              "        [ 43,  56,  45],\n",
              "        [ 52,  64,  53],\n",
              "        [ 46,  58,  47]],\n",
              "\n",
              "       [[ 27,  30,  38],\n",
              "        [ 27,  28,  41],\n",
              "        [ 21,  31,  39],\n",
              "        ...,\n",
              "        [112, 136,  97],\n",
              "        [117, 140, 101],\n",
              "        [115, 138, 100]],\n",
              "\n",
              "       [[ 34,  36,  42],\n",
              "        [ 33,  33,  43],\n",
              "        [ 24,  30,  40],\n",
              "        ...,\n",
              "        [175, 208, 143],\n",
              "        [177, 209, 144],\n",
              "        [176, 208, 143]],\n",
              "\n",
              "       ...,\n",
              "\n",
              "       [[142, 176, 118],\n",
              "        [142, 176, 118],\n",
              "        [150, 184, 127],\n",
              "        ...,\n",
              "        [134, 175, 119],\n",
              "        [128, 168, 112],\n",
              "        [134, 175, 119]],\n",
              "\n",
              "       [[140, 176, 124],\n",
              "        [145, 180, 129],\n",
              "        [150, 186, 134],\n",
              "        ...,\n",
              "        [131, 170, 119],\n",
              "        [130, 170, 119],\n",
              "        [122, 162, 111]],\n",
              "\n",
              "       [[134, 171, 123],\n",
              "        [136, 171, 124],\n",
              "        [136, 171, 124],\n",
              "        ...,\n",
              "        [106, 144, 100],\n",
              "        [104, 142,  99],\n",
              "        [101, 140,  96]]], dtype=uint8)"
            ],
            "text/html": [
              "<style>\n",
              "      .ndarray_repr .ndarray_raw_data {\n",
              "        display: none;\n",
              "      }\n",
              "      .ndarray_repr.show_array .ndarray_raw_data {\n",
              "        display: block;\n",
              "      }\n",
              "      .ndarray_repr.show_array .ndarray_image_preview {\n",
              "        display: none;\n",
              "      }\n",
              "      </style>\n",
              "      <div id=\"id-87cb78b1-9537-4d37-9182-66eb84f77b40\" class=\"ndarray_repr\"><pre>ndarray (32, 32, 3) <button style=\"padding: 0 2px;\">show data</button></pre><img src=\"data:image/png;base64,iVBORw0KGgoAAAANSUhEUgAAACAAAAAgCAIAAAD8GO2jAAAJfUlEQVR4nAXB2Y+d510A4Hd/v/Xsc+ac8WzeMhk7cZOmWWqspJWolRYVpCKKEDdcIO75F/gfetVLBIirXACFiwKqVNoidYkoqG1ix/Z4Ns+c7dvf/cfz4N3bRwQ4Teje0Rxj9PzpeQgs7+d5P8oEnc9nm7pabtaj8cSsu/rVcpjns4MbtVPFcllXDUXMal+URTyMrbfWWh88BC84i6PIGMPAgg++8/byYj2dpBEjBMc8UL1uh1vJ7vY4jVlbrpCuj49vzB6+nsVSZlIHo/Vuuak4Ztfn189eBDHq0Yh6bOJeFEmRRylnLARgUjDw2HtAjk6HE7Vqu9pFNE6S5Pjozt3XDou64hFBBO69eXjzcMfoBogjFDHOg/G2MaaZfaCOMY9IQr2wJEGEY4E5wRgAWDpgLJDcR7GMsEEJi5Qq23oBCbk6j37lW2X0eDqd787mO5N4EAmEpECRoODBNhrFQgsCOhDPkMTxtO9i0NgAhhBCgMAO729LFVwFZ2eb3/3PkgDTZYtdR3R49vPiRDAHYbI9Xe/O0vBg2juezWeJBInBVF1tnClN/fy6vFqbSnXITl7bI8M4mmZ4QDHBnFD8vU/+pnl+9dN//dnFSXVVeu9JjKAfQ8r9OMoGeR8xiiilgtIMD3eHX3v88I3XD3uc2qJtFuXy5PLFb79YX14r3Z2XGxhkbNxP9of3vvEmT2Twgb3x1o0nnS7W7TjJnbWLajUfiDuDnCHPMRv2IhGnHpEoitMUF1er3/3zfw4uH0yHPadMMJh3IAO0mwUKyBftZlEl143dVPrtW/SQeYtYv88XiyUnaUajdegQKAF4P09jSQ1B2nRV0Yo4B44THE0nE8GgfXl5cXXtvCEkRkCZxPko1qVOZLSqi/bVqp/HGZaeOAOIxUJi56v1htCIYQuOOJdZy9MkcEqqqhFRnGcRF7RpauTZaJAqrb1HVreqWVVVm6RimGVXpYmiBEKljH15cnnz5fX0cNcHTZB13COOyKCfb036hDLtWaV80zbOGGfN9tZ4Phsh0NYa55w1JoSgus40bVtW5XLdFCVDxFpXN12rfWvhalE9++xlcIFxysrlulmuh0keCWm0Dcy3uFtrkvc4x7iXxoN+kmei2PhlWVCUbY1yhJBSGhkwJtS1qptaSuEJXlTVWmllg7L6/GxhtA0MWDDWVu0oy4tNed0Vk4PhMOWXp5c9NZeMj0eDLIkYDb1edH6imgaHEOq6VW0bDFqXalOZAIZdLkSe1sEVzmnAOmAVqAvgrWEMEY6Z6XRZ1R3YR994eP/e/Md/94PFWTfv9/p5ZozSzgVvtTbIh+VqhYKG4Js6bArlsSSMXy7L+aCHkrgKlQ7EYUqTzGOEMTAJyWzr9i/8qzVqd+5PH37t3uvHO+OE/ds//Hu5qdsmXS1KYzUwUmlcGzvstETeO7epWuOAi0hZu1aBG+ho1qHGoNC6muYySSMPwNrSEtnTMdo52Pv4Tz+4czQRMdx/dM8x9OPv/9OnT7/AmnkXkKCrTo+GEYtFV1ZVUTcGUcq0M4VSLaG/Obs+WZjKhwCgEe5N+lmarOqGnS4vf/Lrn2zd7n/3r75z694Es07rxhj/xjvHL3759If/+B/CpFb7AK4f4b35DYShNnqtwkZLghDnUHHNB8nL0+VlpSf70/PTa2cpwaJcV8ppMru96zLz1kdHd740A6aMV8ZbREFkbP/Nu7XAJYZXjS4M3Dy8eXjzFk+HDSSXLXlRhZPWPm82ekje+4OHvZ1tiNkf/fnv33/30IRwdnptNeBAyWA++su//ovfe/yOJRWijlAWx3kUxS7onYPZa8d3hZTgCcWxYdGnT1/892+/+PXp4um6OTfNmVmvWHf/62+/9833J/tbrfXpQHz7Ox+OJtmnP//f1XWZJT3S6CodRTTGAB4T4hy2jjhPWqUG2/m3//ibw61BmmeYiyUxbprUGdIDynaSeJfuPdj++M8ef/DxIzwgOzdHIfAnT57dPZoeHc2fPz09fX4hWcycM4EgBJ5Z6gAAMQBmnQISHNd7Dw7jWa/4zRlmfO/9m3/43ccXry6urjZVYx12N+aT/f2pYXbdLXcPRoykX3x2lv5J+MqX7/zql593jfE2MIyws5YxGgJqWw3AEAreWR5xQ1A8oNnO4LKp+v3e9Pawf5hFOwd38IHtTK108I4QjyFIKidb47wXCZ4mef9L790dfvKjYFEsGesMUEoEYw5Bq02nKkIIQpDSzGNCiBrMh45ywuVoNLTeGWSJ0xhZRLyxBgMGBIKKrDceTvj8xo4n6Xgf9m+PwWOGMVMWkRAsMtZqjEFI4Z0PAZQ2ygTLUN7PqKA8iiWf6DY4ooNuWaDBI0DYWdd2rSZitWo60yZpvFgVzvo07zeNb1vLGuOcNYyTqtrkabQ1HgMHAOiU6drO0+CDIwJv6vLFs/VwntO4Bm+DpZXqlNEAYK11HE5eXhRVSTgp65qA6BR8/uSsKC2r6lpwIRkXQhLMMGbGqLZtrfUIECBkwdGIbDbrf/nBD3vjbx3eyjyyzru201VdO+e44CTwi1dL4zyTzDjvjXYhnJ+cL5c1i6WIIiE4iYZ9yUTXqWJTdF2bZT0Ivm1bRFDaT95+98vPX37+/e/97Ucfvvf6g73+tgSgjEYYeWfcdbF58vQ5IsiD8wF3xsQZ4RVrOkM48sSbiCJBAEIIHqSM+v1BluWcCYxxlEQOudtHB4+/9ahYdp/8/X/94qeflVXZKW2tByAA+OpqWdVq72C/qqvLq+umrftjtrs/rZuGOaOcAUZRksScC0qY4AIAtNLBeOK5095avVovv/rh8fuPvvKzH/3fsxens5dSZlm/PzLWlGVT1e3de7cHg1lvSDdFSQndv3tDtaQ1DWtaa521jhiDkxi89wgwpcwbbzvb1u7V2XJ7azLsD1qrD97cWqstwUhdIkuciJ13wGSyfWP38JY0xmGCjKVFWaRZHEfAEs42RYcQ8t60ncfBadVRymQUCSHrVlkH+Sj/6kfv7B/OCXf5KH3r3XuJSHq9nkYdJQwzIglFgJRR1toojvM8F1JSwYzWQkoWkOCMI8LrpvNGN3VDGRkOKGURkjJK+EywdFLHOfGBsCDZkKcy5YzZThOPnfVlVWijMSNMMAhIRpJx3rSaEFlXihkLztqus03TSi4oSylDgKl2XvtgTQPIyx5zWBnlvQ660YYazvhidTUaDgLA4uJaGTOZzzzGq3KNEBDKLs7XIYAP/v8BDjUbSftL/RoAAAAASUVORK5CYII=\" class=\"ndarray_image_preview\" /><pre class=\"ndarray_raw_data\">array([[[ 28,  35,  39],\n",
              "        [ 30,  34,  44],\n",
              "        [ 33,  44,  47],\n",
              "        ...,\n",
              "        [ 43,  56,  45],\n",
              "        [ 52,  64,  53],\n",
              "        [ 46,  58,  47]],\n",
              "\n",
              "       [[ 27,  30,  38],\n",
              "        [ 27,  28,  41],\n",
              "        [ 21,  31,  39],\n",
              "        ...,\n",
              "        [112, 136,  97],\n",
              "        [117, 140, 101],\n",
              "        [115, 138, 100]],\n",
              "\n",
              "       [[ 34,  36,  42],\n",
              "        [ 33,  33,  43],\n",
              "        [ 24,  30,  40],\n",
              "        ...,\n",
              "        [175, 208, 143],\n",
              "        [177, 209, 144],\n",
              "        [176, 208, 143]],\n",
              "\n",
              "       ...,\n",
              "\n",
              "       [[142, 176, 118],\n",
              "        [142, 176, 118],\n",
              "        [150, 184, 127],\n",
              "        ...,\n",
              "        [134, 175, 119],\n",
              "        [128, 168, 112],\n",
              "        [134, 175, 119]],\n",
              "\n",
              "       [[140, 176, 124],\n",
              "        [145, 180, 129],\n",
              "        [150, 186, 134],\n",
              "        ...,\n",
              "        [131, 170, 119],\n",
              "        [130, 170, 119],\n",
              "        [122, 162, 111]],\n",
              "\n",
              "       [[134, 171, 123],\n",
              "        [136, 171, 124],\n",
              "        [136, 171, 124],\n",
              "        ...,\n",
              "        [106, 144, 100],\n",
              "        [104, 142,  99],\n",
              "        [101, 140,  96]]], dtype=uint8)</pre></div><script>\n",
              "      (() => {\n",
              "      const titles = ['show data', 'hide data'];\n",
              "      let index = 0\n",
              "      document.querySelector('#id-87cb78b1-9537-4d37-9182-66eb84f77b40 button').onclick = (e) => {\n",
              "        document.querySelector('#id-87cb78b1-9537-4d37-9182-66eb84f77b40').classList.toggle('show_array');\n",
              "        index = (++index) % 2;\n",
              "        document.querySelector('#id-87cb78b1-9537-4d37-9182-66eb84f77b40 button').textContent = titles[index];\n",
              "        e.preventDefault();\n",
              "        e.stopPropagation();\n",
              "      }\n",
              "      })();\n",
              "    </script>"
            ]
          },
          "metadata": {},
          "execution_count": 37
        }
      ],
      "source": [
        "X_train[7]"
      ]
    },
    {
      "cell_type": "code",
      "execution_count": null,
      "metadata": {
        "id": "3sIVAh3mVvju"
      },
      "outputs": [],
      "source": [
        "model = keras.Sequential()"
      ]
    },
    {
      "cell_type": "code",
      "execution_count": null,
      "metadata": {
        "colab": {
          "base_uri": "https://localhost:8080/",
          "height": 153
        },
        "id": "YlG2D7LxWKVv",
        "outputId": "d34b460f-b9dd-4c4f-a08b-51eb8d28c863"
      },
      "outputs": [
        {
          "output_type": "display_data",
          "data": {
            "text/plain": [
              "\u001b[1mModel: \"sequential_1\"\u001b[0m\n"
            ],
            "text/html": [
              "<pre style=\"white-space:pre;overflow-x:auto;line-height:normal;font-family:Menlo,'DejaVu Sans Mono',consolas,'Courier New',monospace\"><span style=\"font-weight: bold\">Model: \"sequential_1\"</span>\n",
              "</pre>\n"
            ]
          },
          "metadata": {}
        },
        {
          "output_type": "display_data",
          "data": {
            "text/plain": [
              "┏━━━━━━━━━━━━━━━━━━━━━━━━━━━━━━━━━┳━━━━━━━━━━━━━━━━━━━━━━━━┳━━━━━━━━━━━━━━━┓\n",
              "┃\u001b[1m \u001b[0m\u001b[1mLayer (type)                   \u001b[0m\u001b[1m \u001b[0m┃\u001b[1m \u001b[0m\u001b[1mOutput Shape          \u001b[0m\u001b[1m \u001b[0m┃\u001b[1m \u001b[0m\u001b[1m      Param #\u001b[0m\u001b[1m \u001b[0m┃\n",
              "┡━━━━━━━━━━━━━━━━━━━━━━━━━━━━━━━━━╇━━━━━━━━━━━━━━━━━━━━━━━━╇━━━━━━━━━━━━━━━┩\n",
              "└─────────────────────────────────┴────────────────────────┴───────────────┘\n"
            ],
            "text/html": [
              "<pre style=\"white-space:pre;overflow-x:auto;line-height:normal;font-family:Menlo,'DejaVu Sans Mono',consolas,'Courier New',monospace\">┏━━━━━━━━━━━━━━━━━━━━━━━━━━━━━━━━━┳━━━━━━━━━━━━━━━━━━━━━━━━┳━━━━━━━━━━━━━━━┓\n",
              "┃<span style=\"font-weight: bold\"> Layer (type)                    </span>┃<span style=\"font-weight: bold\"> Output Shape           </span>┃<span style=\"font-weight: bold\">       Param # </span>┃\n",
              "┡━━━━━━━━━━━━━━━━━━━━━━━━━━━━━━━━━╇━━━━━━━━━━━━━━━━━━━━━━━━╇━━━━━━━━━━━━━━━┩\n",
              "└─────────────────────────────────┴────────────────────────┴───────────────┘\n",
              "</pre>\n"
            ]
          },
          "metadata": {}
        },
        {
          "output_type": "display_data",
          "data": {
            "text/plain": [
              "\u001b[1m Total params: \u001b[0m\u001b[38;5;34m0\u001b[0m (0.00 B)\n"
            ],
            "text/html": [
              "<pre style=\"white-space:pre;overflow-x:auto;line-height:normal;font-family:Menlo,'DejaVu Sans Mono',consolas,'Courier New',monospace\"><span style=\"font-weight: bold\"> Total params: </span><span style=\"color: #00af00; text-decoration-color: #00af00\">0</span> (0.00 B)\n",
              "</pre>\n"
            ]
          },
          "metadata": {}
        },
        {
          "output_type": "display_data",
          "data": {
            "text/plain": [
              "\u001b[1m Trainable params: \u001b[0m\u001b[38;5;34m0\u001b[0m (0.00 B)\n"
            ],
            "text/html": [
              "<pre style=\"white-space:pre;overflow-x:auto;line-height:normal;font-family:Menlo,'DejaVu Sans Mono',consolas,'Courier New',monospace\"><span style=\"font-weight: bold\"> Trainable params: </span><span style=\"color: #00af00; text-decoration-color: #00af00\">0</span> (0.00 B)\n",
              "</pre>\n"
            ]
          },
          "metadata": {}
        },
        {
          "output_type": "display_data",
          "data": {
            "text/plain": [
              "\u001b[1m Non-trainable params: \u001b[0m\u001b[38;5;34m0\u001b[0m (0.00 B)\n"
            ],
            "text/html": [
              "<pre style=\"white-space:pre;overflow-x:auto;line-height:normal;font-family:Menlo,'DejaVu Sans Mono',consolas,'Courier New',monospace\"><span style=\"font-weight: bold\"> Non-trainable params: </span><span style=\"color: #00af00; text-decoration-color: #00af00\">0</span> (0.00 B)\n",
              "</pre>\n"
            ]
          },
          "metadata": {}
        }
      ],
      "source": [
        "model.summary()"
      ]
    },
    {
      "cell_type": "code",
      "execution_count": null,
      "metadata": {
        "id": "9Um0ybzj5aIL"
      },
      "outputs": [],
      "source": [
        "from tensorflow.keras.preprocessing.image import ImageDataGenerator"
      ]
    },
    {
      "cell_type": "code",
      "execution_count": null,
      "metadata": {
        "id": "3wmuCPEj4rjL"
      },
      "outputs": [],
      "source": [
        "datagen = ImageDataGenerator(\n",
        "    rotation_range=15,\n",
        "    width_shift_range=0.1,\n",
        "    height_shift_range=0.1,\n",
        "    horizontal_flip=True,\n",
        "    zoom_range=0.1\n",
        ")"
      ]
    },
    {
      "cell_type": "code",
      "execution_count": null,
      "metadata": {
        "id": "gxaFbl2m5Cho"
      },
      "outputs": [],
      "source": [
        "datagen.fit(X_train)"
      ]
    },
    {
      "cell_type": "code",
      "execution_count": null,
      "metadata": {
        "id": "pclEHHU5WL-4"
      },
      "outputs": [],
      "source": [
        "model.add(keras.layers.Conv2D(\n",
        "    32,\n",
        "    (3,3),\n",
        "    activation=\"relu\",\n",
        "    input_shape=(32,32,3),\n",
        "    padding='same'\n",
        ")\n",
        ")\n",
        "model.add(BatchNormalization())"
      ]
    },
    {
      "cell_type": "code",
      "execution_count": null,
      "metadata": {
        "id": "yhf2FRxJyxKf"
      },
      "outputs": [],
      "source": [
        "model.add(keras.layers.Conv2D(\n",
        "    32,\n",
        "    (3,3),\n",
        "    activation=\"relu\",\n",
        "    padding='same'\n",
        ")\n",
        ")"
      ]
    },
    {
      "cell_type": "code",
      "execution_count": null,
      "metadata": {
        "id": "NoEbeuYBXhNy"
      },
      "outputs": [],
      "source": [
        "model.add(keras.layers.MaxPooling2D(\n",
        "    pool_size=(2, 2)\n",
        "))\n",
        "model.add(Dropout(0.25))"
      ]
    },
    {
      "cell_type": "code",
      "execution_count": null,
      "metadata": {
        "id": "h6idIs8YeLVs"
      },
      "outputs": [],
      "source": [
        "model.add(keras.layers.Conv2D(\n",
        "    64,\n",
        "    (3,3),\n",
        "    activation=\"relu\",\n",
        "    padding='same'\n",
        ")\n",
        ")\n",
        "model.add(BatchNormalization())"
      ]
    },
    {
      "cell_type": "code",
      "execution_count": null,
      "metadata": {
        "id": "nI_FV-JRzJwv"
      },
      "outputs": [],
      "source": [
        "model.add(keras.layers.Conv2D(\n",
        "    64,\n",
        "    (3,3),\n",
        "    activation=\"relu\",\n",
        "    padding='same'\n",
        ")\n",
        ")"
      ]
    },
    {
      "cell_type": "code",
      "execution_count": null,
      "metadata": {
        "id": "e06HZXoEeTeh"
      },
      "outputs": [],
      "source": [
        "model.add(keras.layers.MaxPooling2D(\n",
        "    pool_size=(2, 2)\n",
        "))\n",
        "model.add(Dropout(0.25))"
      ]
    },
    {
      "cell_type": "code",
      "execution_count": null,
      "metadata": {
        "id": "8EwbJ-7wYnG5"
      },
      "outputs": [],
      "source": [
        "model.add(keras.layers.Flatten())"
      ]
    },
    {
      "cell_type": "code",
      "execution_count": null,
      "metadata": {
        "id": "_1YYXhDhY1AU"
      },
      "outputs": [],
      "source": [
        "model.add(keras.layers.Dense(512, activation=\"relu\"))"
      ]
    },
    {
      "cell_type": "code",
      "execution_count": null,
      "metadata": {
        "id": "NQFKNWOVzUNA"
      },
      "outputs": [],
      "source": [
        "model.add(Dropout(0.5))"
      ]
    },
    {
      "cell_type": "code",
      "execution_count": null,
      "metadata": {
        "id": "KaGZZbLhY_n2"
      },
      "outputs": [],
      "source": [
        "model.add(keras.layers.Dense(10, activation=\"softmax\"))"
      ]
    },
    {
      "cell_type": "code",
      "execution_count": null,
      "metadata": {
        "colab": {
          "base_uri": "https://localhost:8080/",
          "height": 646
        },
        "id": "sO8z2mbHZHQH",
        "outputId": "05199ef5-5411-42e4-d633-fc2d1436523a"
      },
      "outputs": [
        {
          "output_type": "display_data",
          "data": {
            "text/plain": [
              "\u001b[1mModel: \"sequential_1\"\u001b[0m\n"
            ],
            "text/html": [
              "<pre style=\"white-space:pre;overflow-x:auto;line-height:normal;font-family:Menlo,'DejaVu Sans Mono',consolas,'Courier New',monospace\"><span style=\"font-weight: bold\">Model: \"sequential_1\"</span>\n",
              "</pre>\n"
            ]
          },
          "metadata": {}
        },
        {
          "output_type": "display_data",
          "data": {
            "text/plain": [
              "┏━━━━━━━━━━━━━━━━━━━━━━━━━━━━━━━━━┳━━━━━━━━━━━━━━━━━━━━━━━━┳━━━━━━━━━━━━━━━┓\n",
              "┃\u001b[1m \u001b[0m\u001b[1mLayer (type)                   \u001b[0m\u001b[1m \u001b[0m┃\u001b[1m \u001b[0m\u001b[1mOutput Shape          \u001b[0m\u001b[1m \u001b[0m┃\u001b[1m \u001b[0m\u001b[1m      Param #\u001b[0m\u001b[1m \u001b[0m┃\n",
              "┡━━━━━━━━━━━━━━━━━━━━━━━━━━━━━━━━━╇━━━━━━━━━━━━━━━━━━━━━━━━╇━━━━━━━━━━━━━━━┩\n",
              "│ conv2d_4 (\u001b[38;5;33mConv2D\u001b[0m)               │ (\u001b[38;5;45mNone\u001b[0m, \u001b[38;5;34m32\u001b[0m, \u001b[38;5;34m32\u001b[0m, \u001b[38;5;34m32\u001b[0m)     │           \u001b[38;5;34m896\u001b[0m │\n",
              "├─────────────────────────────────┼────────────────────────┼───────────────┤\n",
              "│ batch_normalization_2           │ (\u001b[38;5;45mNone\u001b[0m, \u001b[38;5;34m32\u001b[0m, \u001b[38;5;34m32\u001b[0m, \u001b[38;5;34m32\u001b[0m)     │           \u001b[38;5;34m128\u001b[0m │\n",
              "│ (\u001b[38;5;33mBatchNormalization\u001b[0m)            │                        │               │\n",
              "├─────────────────────────────────┼────────────────────────┼───────────────┤\n",
              "│ conv2d_5 (\u001b[38;5;33mConv2D\u001b[0m)               │ (\u001b[38;5;45mNone\u001b[0m, \u001b[38;5;34m32\u001b[0m, \u001b[38;5;34m32\u001b[0m, \u001b[38;5;34m32\u001b[0m)     │         \u001b[38;5;34m9,248\u001b[0m │\n",
              "├─────────────────────────────────┼────────────────────────┼───────────────┤\n",
              "│ max_pooling2d_2 (\u001b[38;5;33mMaxPooling2D\u001b[0m)  │ (\u001b[38;5;45mNone\u001b[0m, \u001b[38;5;34m16\u001b[0m, \u001b[38;5;34m16\u001b[0m, \u001b[38;5;34m32\u001b[0m)     │             \u001b[38;5;34m0\u001b[0m │\n",
              "├─────────────────────────────────┼────────────────────────┼───────────────┤\n",
              "│ dropout_3 (\u001b[38;5;33mDropout\u001b[0m)             │ (\u001b[38;5;45mNone\u001b[0m, \u001b[38;5;34m16\u001b[0m, \u001b[38;5;34m16\u001b[0m, \u001b[38;5;34m32\u001b[0m)     │             \u001b[38;5;34m0\u001b[0m │\n",
              "├─────────────────────────────────┼────────────────────────┼───────────────┤\n",
              "│ conv2d_6 (\u001b[38;5;33mConv2D\u001b[0m)               │ (\u001b[38;5;45mNone\u001b[0m, \u001b[38;5;34m16\u001b[0m, \u001b[38;5;34m16\u001b[0m, \u001b[38;5;34m64\u001b[0m)     │        \u001b[38;5;34m18,496\u001b[0m │\n",
              "├─────────────────────────────────┼────────────────────────┼───────────────┤\n",
              "│ batch_normalization_3           │ (\u001b[38;5;45mNone\u001b[0m, \u001b[38;5;34m16\u001b[0m, \u001b[38;5;34m16\u001b[0m, \u001b[38;5;34m64\u001b[0m)     │           \u001b[38;5;34m256\u001b[0m │\n",
              "│ (\u001b[38;5;33mBatchNormalization\u001b[0m)            │                        │               │\n",
              "├─────────────────────────────────┼────────────────────────┼───────────────┤\n",
              "│ conv2d_7 (\u001b[38;5;33mConv2D\u001b[0m)               │ (\u001b[38;5;45mNone\u001b[0m, \u001b[38;5;34m16\u001b[0m, \u001b[38;5;34m16\u001b[0m, \u001b[38;5;34m64\u001b[0m)     │        \u001b[38;5;34m36,928\u001b[0m │\n",
              "├─────────────────────────────────┼────────────────────────┼───────────────┤\n",
              "│ max_pooling2d_3 (\u001b[38;5;33mMaxPooling2D\u001b[0m)  │ (\u001b[38;5;45mNone\u001b[0m, \u001b[38;5;34m8\u001b[0m, \u001b[38;5;34m8\u001b[0m, \u001b[38;5;34m64\u001b[0m)       │             \u001b[38;5;34m0\u001b[0m │\n",
              "├─────────────────────────────────┼────────────────────────┼───────────────┤\n",
              "│ dropout_4 (\u001b[38;5;33mDropout\u001b[0m)             │ (\u001b[38;5;45mNone\u001b[0m, \u001b[38;5;34m8\u001b[0m, \u001b[38;5;34m8\u001b[0m, \u001b[38;5;34m64\u001b[0m)       │             \u001b[38;5;34m0\u001b[0m │\n",
              "├─────────────────────────────────┼────────────────────────┼───────────────┤\n",
              "│ flatten_1 (\u001b[38;5;33mFlatten\u001b[0m)             │ (\u001b[38;5;45mNone\u001b[0m, \u001b[38;5;34m4096\u001b[0m)           │             \u001b[38;5;34m0\u001b[0m │\n",
              "├─────────────────────────────────┼────────────────────────┼───────────────┤\n",
              "│ dense_2 (\u001b[38;5;33mDense\u001b[0m)                 │ (\u001b[38;5;45mNone\u001b[0m, \u001b[38;5;34m512\u001b[0m)            │     \u001b[38;5;34m2,097,664\u001b[0m │\n",
              "├─────────────────────────────────┼────────────────────────┼───────────────┤\n",
              "│ dropout_5 (\u001b[38;5;33mDropout\u001b[0m)             │ (\u001b[38;5;45mNone\u001b[0m, \u001b[38;5;34m512\u001b[0m)            │             \u001b[38;5;34m0\u001b[0m │\n",
              "├─────────────────────────────────┼────────────────────────┼───────────────┤\n",
              "│ dense_3 (\u001b[38;5;33mDense\u001b[0m)                 │ (\u001b[38;5;45mNone\u001b[0m, \u001b[38;5;34m10\u001b[0m)             │         \u001b[38;5;34m5,130\u001b[0m │\n",
              "└─────────────────────────────────┴────────────────────────┴───────────────┘\n"
            ],
            "text/html": [
              "<pre style=\"white-space:pre;overflow-x:auto;line-height:normal;font-family:Menlo,'DejaVu Sans Mono',consolas,'Courier New',monospace\">┏━━━━━━━━━━━━━━━━━━━━━━━━━━━━━━━━━┳━━━━━━━━━━━━━━━━━━━━━━━━┳━━━━━━━━━━━━━━━┓\n",
              "┃<span style=\"font-weight: bold\"> Layer (type)                    </span>┃<span style=\"font-weight: bold\"> Output Shape           </span>┃<span style=\"font-weight: bold\">       Param # </span>┃\n",
              "┡━━━━━━━━━━━━━━━━━━━━━━━━━━━━━━━━━╇━━━━━━━━━━━━━━━━━━━━━━━━╇━━━━━━━━━━━━━━━┩\n",
              "│ conv2d_4 (<span style=\"color: #0087ff; text-decoration-color: #0087ff\">Conv2D</span>)               │ (<span style=\"color: #00d7ff; text-decoration-color: #00d7ff\">None</span>, <span style=\"color: #00af00; text-decoration-color: #00af00\">32</span>, <span style=\"color: #00af00; text-decoration-color: #00af00\">32</span>, <span style=\"color: #00af00; text-decoration-color: #00af00\">32</span>)     │           <span style=\"color: #00af00; text-decoration-color: #00af00\">896</span> │\n",
              "├─────────────────────────────────┼────────────────────────┼───────────────┤\n",
              "│ batch_normalization_2           │ (<span style=\"color: #00d7ff; text-decoration-color: #00d7ff\">None</span>, <span style=\"color: #00af00; text-decoration-color: #00af00\">32</span>, <span style=\"color: #00af00; text-decoration-color: #00af00\">32</span>, <span style=\"color: #00af00; text-decoration-color: #00af00\">32</span>)     │           <span style=\"color: #00af00; text-decoration-color: #00af00\">128</span> │\n",
              "│ (<span style=\"color: #0087ff; text-decoration-color: #0087ff\">BatchNormalization</span>)            │                        │               │\n",
              "├─────────────────────────────────┼────────────────────────┼───────────────┤\n",
              "│ conv2d_5 (<span style=\"color: #0087ff; text-decoration-color: #0087ff\">Conv2D</span>)               │ (<span style=\"color: #00d7ff; text-decoration-color: #00d7ff\">None</span>, <span style=\"color: #00af00; text-decoration-color: #00af00\">32</span>, <span style=\"color: #00af00; text-decoration-color: #00af00\">32</span>, <span style=\"color: #00af00; text-decoration-color: #00af00\">32</span>)     │         <span style=\"color: #00af00; text-decoration-color: #00af00\">9,248</span> │\n",
              "├─────────────────────────────────┼────────────────────────┼───────────────┤\n",
              "│ max_pooling2d_2 (<span style=\"color: #0087ff; text-decoration-color: #0087ff\">MaxPooling2D</span>)  │ (<span style=\"color: #00d7ff; text-decoration-color: #00d7ff\">None</span>, <span style=\"color: #00af00; text-decoration-color: #00af00\">16</span>, <span style=\"color: #00af00; text-decoration-color: #00af00\">16</span>, <span style=\"color: #00af00; text-decoration-color: #00af00\">32</span>)     │             <span style=\"color: #00af00; text-decoration-color: #00af00\">0</span> │\n",
              "├─────────────────────────────────┼────────────────────────┼───────────────┤\n",
              "│ dropout_3 (<span style=\"color: #0087ff; text-decoration-color: #0087ff\">Dropout</span>)             │ (<span style=\"color: #00d7ff; text-decoration-color: #00d7ff\">None</span>, <span style=\"color: #00af00; text-decoration-color: #00af00\">16</span>, <span style=\"color: #00af00; text-decoration-color: #00af00\">16</span>, <span style=\"color: #00af00; text-decoration-color: #00af00\">32</span>)     │             <span style=\"color: #00af00; text-decoration-color: #00af00\">0</span> │\n",
              "├─────────────────────────────────┼────────────────────────┼───────────────┤\n",
              "│ conv2d_6 (<span style=\"color: #0087ff; text-decoration-color: #0087ff\">Conv2D</span>)               │ (<span style=\"color: #00d7ff; text-decoration-color: #00d7ff\">None</span>, <span style=\"color: #00af00; text-decoration-color: #00af00\">16</span>, <span style=\"color: #00af00; text-decoration-color: #00af00\">16</span>, <span style=\"color: #00af00; text-decoration-color: #00af00\">64</span>)     │        <span style=\"color: #00af00; text-decoration-color: #00af00\">18,496</span> │\n",
              "├─────────────────────────────────┼────────────────────────┼───────────────┤\n",
              "│ batch_normalization_3           │ (<span style=\"color: #00d7ff; text-decoration-color: #00d7ff\">None</span>, <span style=\"color: #00af00; text-decoration-color: #00af00\">16</span>, <span style=\"color: #00af00; text-decoration-color: #00af00\">16</span>, <span style=\"color: #00af00; text-decoration-color: #00af00\">64</span>)     │           <span style=\"color: #00af00; text-decoration-color: #00af00\">256</span> │\n",
              "│ (<span style=\"color: #0087ff; text-decoration-color: #0087ff\">BatchNormalization</span>)            │                        │               │\n",
              "├─────────────────────────────────┼────────────────────────┼───────────────┤\n",
              "│ conv2d_7 (<span style=\"color: #0087ff; text-decoration-color: #0087ff\">Conv2D</span>)               │ (<span style=\"color: #00d7ff; text-decoration-color: #00d7ff\">None</span>, <span style=\"color: #00af00; text-decoration-color: #00af00\">16</span>, <span style=\"color: #00af00; text-decoration-color: #00af00\">16</span>, <span style=\"color: #00af00; text-decoration-color: #00af00\">64</span>)     │        <span style=\"color: #00af00; text-decoration-color: #00af00\">36,928</span> │\n",
              "├─────────────────────────────────┼────────────────────────┼───────────────┤\n",
              "│ max_pooling2d_3 (<span style=\"color: #0087ff; text-decoration-color: #0087ff\">MaxPooling2D</span>)  │ (<span style=\"color: #00d7ff; text-decoration-color: #00d7ff\">None</span>, <span style=\"color: #00af00; text-decoration-color: #00af00\">8</span>, <span style=\"color: #00af00; text-decoration-color: #00af00\">8</span>, <span style=\"color: #00af00; text-decoration-color: #00af00\">64</span>)       │             <span style=\"color: #00af00; text-decoration-color: #00af00\">0</span> │\n",
              "├─────────────────────────────────┼────────────────────────┼───────────────┤\n",
              "│ dropout_4 (<span style=\"color: #0087ff; text-decoration-color: #0087ff\">Dropout</span>)             │ (<span style=\"color: #00d7ff; text-decoration-color: #00d7ff\">None</span>, <span style=\"color: #00af00; text-decoration-color: #00af00\">8</span>, <span style=\"color: #00af00; text-decoration-color: #00af00\">8</span>, <span style=\"color: #00af00; text-decoration-color: #00af00\">64</span>)       │             <span style=\"color: #00af00; text-decoration-color: #00af00\">0</span> │\n",
              "├─────────────────────────────────┼────────────────────────┼───────────────┤\n",
              "│ flatten_1 (<span style=\"color: #0087ff; text-decoration-color: #0087ff\">Flatten</span>)             │ (<span style=\"color: #00d7ff; text-decoration-color: #00d7ff\">None</span>, <span style=\"color: #00af00; text-decoration-color: #00af00\">4096</span>)           │             <span style=\"color: #00af00; text-decoration-color: #00af00\">0</span> │\n",
              "├─────────────────────────────────┼────────────────────────┼───────────────┤\n",
              "│ dense_2 (<span style=\"color: #0087ff; text-decoration-color: #0087ff\">Dense</span>)                 │ (<span style=\"color: #00d7ff; text-decoration-color: #00d7ff\">None</span>, <span style=\"color: #00af00; text-decoration-color: #00af00\">512</span>)            │     <span style=\"color: #00af00; text-decoration-color: #00af00\">2,097,664</span> │\n",
              "├─────────────────────────────────┼────────────────────────┼───────────────┤\n",
              "│ dropout_5 (<span style=\"color: #0087ff; text-decoration-color: #0087ff\">Dropout</span>)             │ (<span style=\"color: #00d7ff; text-decoration-color: #00d7ff\">None</span>, <span style=\"color: #00af00; text-decoration-color: #00af00\">512</span>)            │             <span style=\"color: #00af00; text-decoration-color: #00af00\">0</span> │\n",
              "├─────────────────────────────────┼────────────────────────┼───────────────┤\n",
              "│ dense_3 (<span style=\"color: #0087ff; text-decoration-color: #0087ff\">Dense</span>)                 │ (<span style=\"color: #00d7ff; text-decoration-color: #00d7ff\">None</span>, <span style=\"color: #00af00; text-decoration-color: #00af00\">10</span>)             │         <span style=\"color: #00af00; text-decoration-color: #00af00\">5,130</span> │\n",
              "└─────────────────────────────────┴────────────────────────┴───────────────┘\n",
              "</pre>\n"
            ]
          },
          "metadata": {}
        },
        {
          "output_type": "display_data",
          "data": {
            "text/plain": [
              "\u001b[1m Total params: \u001b[0m\u001b[38;5;34m2,168,746\u001b[0m (8.27 MB)\n"
            ],
            "text/html": [
              "<pre style=\"white-space:pre;overflow-x:auto;line-height:normal;font-family:Menlo,'DejaVu Sans Mono',consolas,'Courier New',monospace\"><span style=\"font-weight: bold\"> Total params: </span><span style=\"color: #00af00; text-decoration-color: #00af00\">2,168,746</span> (8.27 MB)\n",
              "</pre>\n"
            ]
          },
          "metadata": {}
        },
        {
          "output_type": "display_data",
          "data": {
            "text/plain": [
              "\u001b[1m Trainable params: \u001b[0m\u001b[38;5;34m2,168,554\u001b[0m (8.27 MB)\n"
            ],
            "text/html": [
              "<pre style=\"white-space:pre;overflow-x:auto;line-height:normal;font-family:Menlo,'DejaVu Sans Mono',consolas,'Courier New',monospace\"><span style=\"font-weight: bold\"> Trainable params: </span><span style=\"color: #00af00; text-decoration-color: #00af00\">2,168,554</span> (8.27 MB)\n",
              "</pre>\n"
            ]
          },
          "metadata": {}
        },
        {
          "output_type": "display_data",
          "data": {
            "text/plain": [
              "\u001b[1m Non-trainable params: \u001b[0m\u001b[38;5;34m192\u001b[0m (768.00 B)\n"
            ],
            "text/html": [
              "<pre style=\"white-space:pre;overflow-x:auto;line-height:normal;font-family:Menlo,'DejaVu Sans Mono',consolas,'Courier New',monospace\"><span style=\"font-weight: bold\"> Non-trainable params: </span><span style=\"color: #00af00; text-decoration-color: #00af00\">192</span> (768.00 B)\n",
              "</pre>\n"
            ]
          },
          "metadata": {}
        }
      ],
      "source": [
        "model.summary()"
      ]
    },
    {
      "cell_type": "code",
      "execution_count": null,
      "metadata": {
        "id": "9ua8hWDFaPTO"
      },
      "outputs": [],
      "source": [
        "model.compile(\n",
        "    optimizer=\"adam\",\n",
        "    loss = 'sparse_categorical_crossentropy',\n",
        "    metrics=['accuracy']\n",
        ")"
      ]
    },
    {
      "cell_type": "code",
      "execution_count": null,
      "metadata": {
        "id": "JtppSBO0aig4"
      },
      "outputs": [],
      "source": [
        "callback1 = keras.callbacks.EarlyStopping(\n",
        "    monitor=\"val_accuracy\",\n",
        "    patience=5\n",
        ")"
      ]
    },
    {
      "cell_type": "code",
      "execution_count": null,
      "metadata": {
        "colab": {
          "base_uri": "https://localhost:8080/"
        },
        "id": "wLe7Nx6WbalO",
        "outputId": "389e1df9-aecf-423b-ae0b-f3a95fb08e88"
      },
      "outputs": [
        {
          "output_type": "stream",
          "name": "stdout",
          "text": [
            "Epoch 1/100\n",
            "\u001b[1m782/782\u001b[0m \u001b[32m━━━━━━━━━━━━━━━━━━━━\u001b[0m\u001b[37m\u001b[0m \u001b[1m16s\u001b[0m 13ms/step - accuracy: 0.2998 - loss: 2.1265 - val_accuracy: 0.4913 - val_loss: 1.3700\n",
            "Epoch 2/100\n",
            "\u001b[1m782/782\u001b[0m \u001b[32m━━━━━━━━━━━━━━━━━━━━\u001b[0m\u001b[37m\u001b[0m \u001b[1m12s\u001b[0m 8ms/step - accuracy: 0.4939 - loss: 1.3852 - val_accuracy: 0.5824 - val_loss: 1.1679\n",
            "Epoch 3/100\n",
            "\u001b[1m782/782\u001b[0m \u001b[32m━━━━━━━━━━━━━━━━━━━━\u001b[0m\u001b[37m\u001b[0m \u001b[1m6s\u001b[0m 7ms/step - accuracy: 0.5888 - loss: 1.1506 - val_accuracy: 0.6577 - val_loss: 0.9668\n",
            "Epoch 4/100\n",
            "\u001b[1m782/782\u001b[0m \u001b[32m━━━━━━━━━━━━━━━━━━━━\u001b[0m\u001b[37m\u001b[0m \u001b[1m6s\u001b[0m 7ms/step - accuracy: 0.6486 - loss: 1.0002 - val_accuracy: 0.6916 - val_loss: 0.8669\n",
            "Epoch 5/100\n",
            "\u001b[1m782/782\u001b[0m \u001b[32m━━━━━━━━━━━━━━━━━━━━\u001b[0m\u001b[37m\u001b[0m \u001b[1m10s\u001b[0m 7ms/step - accuracy: 0.6849 - loss: 0.9058 - val_accuracy: 0.6869 - val_loss: 0.9008\n",
            "Epoch 6/100\n",
            "\u001b[1m782/782\u001b[0m \u001b[32m━━━━━━━━━━━━━━━━━━━━\u001b[0m\u001b[37m\u001b[0m \u001b[1m10s\u001b[0m 7ms/step - accuracy: 0.7163 - loss: 0.8224 - val_accuracy: 0.6867 - val_loss: 0.8836\n",
            "Epoch 7/100\n",
            "\u001b[1m782/782\u001b[0m \u001b[32m━━━━━━━━━━━━━━━━━━━━\u001b[0m\u001b[37m\u001b[0m \u001b[1m6s\u001b[0m 8ms/step - accuracy: 0.7355 - loss: 0.7632 - val_accuracy: 0.7425 - val_loss: 0.7550\n",
            "Epoch 8/100\n",
            "\u001b[1m782/782\u001b[0m \u001b[32m━━━━━━━━━━━━━━━━━━━━\u001b[0m\u001b[37m\u001b[0m \u001b[1m5s\u001b[0m 7ms/step - accuracy: 0.7498 - loss: 0.7201 - val_accuracy: 0.7605 - val_loss: 0.6947\n",
            "Epoch 9/100\n",
            "\u001b[1m782/782\u001b[0m \u001b[32m━━━━━━━━━━━━━━━━━━━━\u001b[0m\u001b[37m\u001b[0m \u001b[1m6s\u001b[0m 7ms/step - accuracy: 0.7687 - loss: 0.6763 - val_accuracy: 0.7334 - val_loss: 0.7876\n",
            "Epoch 10/100\n",
            "\u001b[1m782/782\u001b[0m \u001b[32m━━━━━━━━━━━━━━━━━━━━\u001b[0m\u001b[37m\u001b[0m \u001b[1m10s\u001b[0m 7ms/step - accuracy: 0.7794 - loss: 0.6399 - val_accuracy: 0.7398 - val_loss: 0.7774\n",
            "Epoch 11/100\n",
            "\u001b[1m782/782\u001b[0m \u001b[32m━━━━━━━━━━━━━━━━━━━━\u001b[0m\u001b[37m\u001b[0m \u001b[1m10s\u001b[0m 7ms/step - accuracy: 0.7928 - loss: 0.5947 - val_accuracy: 0.7760 - val_loss: 0.6724\n",
            "Epoch 12/100\n",
            "\u001b[1m782/782\u001b[0m \u001b[32m━━━━━━━━━━━━━━━━━━━━\u001b[0m\u001b[37m\u001b[0m \u001b[1m6s\u001b[0m 7ms/step - accuracy: 0.8041 - loss: 0.5600 - val_accuracy: 0.7768 - val_loss: 0.6677\n",
            "Epoch 13/100\n",
            "\u001b[1m782/782\u001b[0m \u001b[32m━━━━━━━━━━━━━━━━━━━━\u001b[0m\u001b[37m\u001b[0m \u001b[1m6s\u001b[0m 7ms/step - accuracy: 0.8132 - loss: 0.5383 - val_accuracy: 0.7196 - val_loss: 0.8855\n",
            "Epoch 14/100\n",
            "\u001b[1m782/782\u001b[0m \u001b[32m━━━━━━━━━━━━━━━━━━━━\u001b[0m\u001b[37m\u001b[0m \u001b[1m6s\u001b[0m 7ms/step - accuracy: 0.8197 - loss: 0.5144 - val_accuracy: 0.7712 - val_loss: 0.7106\n",
            "Epoch 15/100\n",
            "\u001b[1m782/782\u001b[0m \u001b[32m━━━━━━━━━━━━━━━━━━━━\u001b[0m\u001b[37m\u001b[0m \u001b[1m6s\u001b[0m 7ms/step - accuracy: 0.8257 - loss: 0.4925 - val_accuracy: 0.7698 - val_loss: 0.7185\n",
            "Epoch 16/100\n",
            "\u001b[1m782/782\u001b[0m \u001b[32m━━━━━━━━━━━━━━━━━━━━\u001b[0m\u001b[37m\u001b[0m \u001b[1m6s\u001b[0m 7ms/step - accuracy: 0.8349 - loss: 0.4715 - val_accuracy: 0.7901 - val_loss: 0.6629\n",
            "Epoch 17/100\n",
            "\u001b[1m782/782\u001b[0m \u001b[32m━━━━━━━━━━━━━━━━━━━━\u001b[0m\u001b[37m\u001b[0m \u001b[1m6s\u001b[0m 7ms/step - accuracy: 0.8431 - loss: 0.4455 - val_accuracy: 0.7896 - val_loss: 0.6416\n",
            "Epoch 18/100\n",
            "\u001b[1m782/782\u001b[0m \u001b[32m━━━━━━━━━━━━━━━━━━━━\u001b[0m\u001b[37m\u001b[0m \u001b[1m10s\u001b[0m 7ms/step - accuracy: 0.8480 - loss: 0.4414 - val_accuracy: 0.7930 - val_loss: 0.6740\n",
            "Epoch 19/100\n",
            "\u001b[1m782/782\u001b[0m \u001b[32m━━━━━━━━━━━━━━━━━━━━\u001b[0m\u001b[37m\u001b[0m \u001b[1m10s\u001b[0m 7ms/step - accuracy: 0.8552 - loss: 0.4201 - val_accuracy: 0.8007 - val_loss: 0.6140\n",
            "Epoch 20/100\n",
            "\u001b[1m782/782\u001b[0m \u001b[32m━━━━━━━━━━━━━━━━━━━━\u001b[0m\u001b[37m\u001b[0m \u001b[1m6s\u001b[0m 7ms/step - accuracy: 0.8587 - loss: 0.4053 - val_accuracy: 0.7936 - val_loss: 0.6656\n",
            "Epoch 21/100\n",
            "\u001b[1m782/782\u001b[0m \u001b[32m━━━━━━━━━━━━━━━━━━━━\u001b[0m\u001b[37m\u001b[0m \u001b[1m6s\u001b[0m 7ms/step - accuracy: 0.8641 - loss: 0.3896 - val_accuracy: 0.8068 - val_loss: 0.5990\n",
            "Epoch 22/100\n",
            "\u001b[1m782/782\u001b[0m \u001b[32m━━━━━━━━━━━━━━━━━━━━\u001b[0m\u001b[37m\u001b[0m \u001b[1m10s\u001b[0m 7ms/step - accuracy: 0.8660 - loss: 0.3858 - val_accuracy: 0.8071 - val_loss: 0.6428\n",
            "Epoch 23/100\n",
            "\u001b[1m782/782\u001b[0m \u001b[32m━━━━━━━━━━━━━━━━━━━━\u001b[0m\u001b[37m\u001b[0m \u001b[1m6s\u001b[0m 7ms/step - accuracy: 0.8694 - loss: 0.3768 - val_accuracy: 0.8046 - val_loss: 0.6248\n",
            "Epoch 24/100\n",
            "\u001b[1m782/782\u001b[0m \u001b[32m━━━━━━━━━━━━━━━━━━━━\u001b[0m\u001b[37m\u001b[0m \u001b[1m6s\u001b[0m 7ms/step - accuracy: 0.8812 - loss: 0.3506 - val_accuracy: 0.7970 - val_loss: 0.6540\n",
            "Epoch 25/100\n",
            "\u001b[1m782/782\u001b[0m \u001b[32m━━━━━━━━━━━━━━━━━━━━\u001b[0m\u001b[37m\u001b[0m \u001b[1m6s\u001b[0m 7ms/step - accuracy: 0.8810 - loss: 0.3417 - val_accuracy: 0.8147 - val_loss: 0.6167\n",
            "Epoch 26/100\n",
            "\u001b[1m782/782\u001b[0m \u001b[32m━━━━━━━━━━━━━━━━━━━━\u001b[0m\u001b[37m\u001b[0m \u001b[1m10s\u001b[0m 7ms/step - accuracy: 0.8867 - loss: 0.3359 - val_accuracy: 0.8036 - val_loss: 0.6588\n",
            "Epoch 27/100\n",
            "\u001b[1m782/782\u001b[0m \u001b[32m━━━━━━━━━━━━━━━━━━━━\u001b[0m\u001b[37m\u001b[0m \u001b[1m10s\u001b[0m 7ms/step - accuracy: 0.8829 - loss: 0.3353 - val_accuracy: 0.8000 - val_loss: 0.6806\n",
            "Epoch 28/100\n",
            "\u001b[1m782/782\u001b[0m \u001b[32m━━━━━━━━━━━━━━━━━━━━\u001b[0m\u001b[37m\u001b[0m \u001b[1m10s\u001b[0m 7ms/step - accuracy: 0.8917 - loss: 0.3138 - val_accuracy: 0.8094 - val_loss: 0.6460\n",
            "Epoch 29/100\n",
            "\u001b[1m782/782\u001b[0m \u001b[32m━━━━━━━━━━━━━━━━━━━━\u001b[0m\u001b[37m\u001b[0m \u001b[1m10s\u001b[0m 8ms/step - accuracy: 0.8916 - loss: 0.3095 - val_accuracy: 0.8108 - val_loss: 0.6223\n",
            "Epoch 30/100\n",
            "\u001b[1m782/782\u001b[0m \u001b[32m━━━━━━━━━━━━━━━━━━━━\u001b[0m\u001b[37m\u001b[0m \u001b[1m6s\u001b[0m 7ms/step - accuracy: 0.8990 - loss: 0.2914 - val_accuracy: 0.8098 - val_loss: 0.6543\n",
            "Epoch 31/100\n",
            "\u001b[1m782/782\u001b[0m \u001b[32m━━━━━━━━━━━━━━━━━━━━\u001b[0m\u001b[37m\u001b[0m \u001b[1m10s\u001b[0m 7ms/step - accuracy: 0.8970 - loss: 0.2942 - val_accuracy: 0.8120 - val_loss: 0.6629\n",
            "Epoch 32/100\n",
            "\u001b[1m782/782\u001b[0m \u001b[32m━━━━━━━━━━━━━━━━━━━━\u001b[0m\u001b[37m\u001b[0m \u001b[1m6s\u001b[0m 8ms/step - accuracy: 0.9012 - loss: 0.2842 - val_accuracy: 0.8180 - val_loss: 0.6196\n",
            "Epoch 33/100\n",
            "\u001b[1m782/782\u001b[0m \u001b[32m━━━━━━━━━━━━━━━━━━━━\u001b[0m\u001b[37m\u001b[0m \u001b[1m6s\u001b[0m 7ms/step - accuracy: 0.9062 - loss: 0.2754 - val_accuracy: 0.8194 - val_loss: 0.6378\n",
            "Epoch 34/100\n",
            "\u001b[1m782/782\u001b[0m \u001b[32m━━━━━━━━━━━━━━━━━━━━\u001b[0m\u001b[37m\u001b[0m \u001b[1m10s\u001b[0m 7ms/step - accuracy: 0.9086 - loss: 0.2627 - val_accuracy: 0.8133 - val_loss: 0.6365\n",
            "Epoch 35/100\n",
            "\u001b[1m782/782\u001b[0m \u001b[32m━━━━━━━━━━━━━━━━━━━━\u001b[0m\u001b[37m\u001b[0m \u001b[1m10s\u001b[0m 7ms/step - accuracy: 0.9118 - loss: 0.2611 - val_accuracy: 0.8214 - val_loss: 0.6282\n",
            "Epoch 36/100\n",
            "\u001b[1m782/782\u001b[0m \u001b[32m━━━━━━━━━━━━━━━━━━━━\u001b[0m\u001b[37m\u001b[0m \u001b[1m10s\u001b[0m 7ms/step - accuracy: 0.9098 - loss: 0.2592 - val_accuracy: 0.8159 - val_loss: 0.6376\n",
            "Epoch 37/100\n",
            "\u001b[1m782/782\u001b[0m \u001b[32m━━━━━━━━━━━━━━━━━━━━\u001b[0m\u001b[37m\u001b[0m \u001b[1m5s\u001b[0m 7ms/step - accuracy: 0.9130 - loss: 0.2515 - val_accuracy: 0.8176 - val_loss: 0.6711\n",
            "Epoch 38/100\n",
            "\u001b[1m782/782\u001b[0m \u001b[32m━━━━━━━━━━━━━━━━━━━━\u001b[0m\u001b[37m\u001b[0m \u001b[1m6s\u001b[0m 7ms/step - accuracy: 0.9135 - loss: 0.2552 - val_accuracy: 0.8161 - val_loss: 0.6846\n",
            "Epoch 39/100\n",
            "\u001b[1m782/782\u001b[0m \u001b[32m━━━━━━━━━━━━━━━━━━━━\u001b[0m\u001b[37m\u001b[0m \u001b[1m10s\u001b[0m 7ms/step - accuracy: 0.9167 - loss: 0.2416 - val_accuracy: 0.8199 - val_loss: 0.6267\n",
            "Epoch 40/100\n",
            "\u001b[1m782/782\u001b[0m \u001b[32m━━━━━━━━━━━━━━━━━━━━\u001b[0m\u001b[37m\u001b[0m \u001b[1m6s\u001b[0m 8ms/step - accuracy: 0.9204 - loss: 0.2312 - val_accuracy: 0.8133 - val_loss: 0.6444\n",
            "Epoch 41/100\n",
            "\u001b[1m782/782\u001b[0m \u001b[32m━━━━━━━━━━━━━━━━━━━━\u001b[0m\u001b[37m\u001b[0m \u001b[1m10s\u001b[0m 8ms/step - accuracy: 0.9230 - loss: 0.2313 - val_accuracy: 0.8112 - val_loss: 0.6962\n",
            "Epoch 42/100\n",
            "\u001b[1m782/782\u001b[0m \u001b[32m━━━━━━━━━━━━━━━━━━━━\u001b[0m\u001b[37m\u001b[0m \u001b[1m10s\u001b[0m 8ms/step - accuracy: 0.9204 - loss: 0.2290 - val_accuracy: 0.8106 - val_loss: 0.6502\n",
            "Epoch 43/100\n",
            "\u001b[1m782/782\u001b[0m \u001b[32m━━━━━━━━━━━━━━━━━━━━\u001b[0m\u001b[37m\u001b[0m \u001b[1m10s\u001b[0m 7ms/step - accuracy: 0.9236 - loss: 0.2197 - val_accuracy: 0.8117 - val_loss: 0.6661\n",
            "Epoch 44/100\n",
            "\u001b[1m782/782\u001b[0m \u001b[32m━━━━━━━━━━━━━━━━━━━━\u001b[0m\u001b[37m\u001b[0m \u001b[1m10s\u001b[0m 7ms/step - accuracy: 0.9243 - loss: 0.2214 - val_accuracy: 0.8284 - val_loss: 0.6443\n",
            "Epoch 45/100\n",
            "\u001b[1m782/782\u001b[0m \u001b[32m━━━━━━━━━━━━━━━━━━━━\u001b[0m\u001b[37m\u001b[0m \u001b[1m10s\u001b[0m 7ms/step - accuracy: 0.9260 - loss: 0.2208 - val_accuracy: 0.8221 - val_loss: 0.6621\n",
            "Epoch 46/100\n",
            "\u001b[1m782/782\u001b[0m \u001b[32m━━━━━━━━━━━━━━━━━━━━\u001b[0m\u001b[37m\u001b[0m \u001b[1m10s\u001b[0m 7ms/step - accuracy: 0.9284 - loss: 0.2118 - val_accuracy: 0.8217 - val_loss: 0.6390\n",
            "Epoch 47/100\n",
            "\u001b[1m782/782\u001b[0m \u001b[32m━━━━━━━━━━━━━━━━━━━━\u001b[0m\u001b[37m\u001b[0m \u001b[1m10s\u001b[0m 7ms/step - accuracy: 0.9274 - loss: 0.2102 - val_accuracy: 0.8245 - val_loss: 0.6306\n",
            "Epoch 48/100\n",
            "\u001b[1m782/782\u001b[0m \u001b[32m━━━━━━━━━━━━━━━━━━━━\u001b[0m\u001b[37m\u001b[0m \u001b[1m6s\u001b[0m 7ms/step - accuracy: 0.9293 - loss: 0.2128 - val_accuracy: 0.8218 - val_loss: 0.6457\n",
            "Epoch 49/100\n",
            "\u001b[1m782/782\u001b[0m \u001b[32m━━━━━━━━━━━━━━━━━━━━\u001b[0m\u001b[37m\u001b[0m \u001b[1m10s\u001b[0m 7ms/step - accuracy: 0.9311 - loss: 0.2023 - val_accuracy: 0.8299 - val_loss: 0.6233\n",
            "Epoch 50/100\n",
            "\u001b[1m782/782\u001b[0m \u001b[32m━━━━━━━━━━━━━━━━━━━━\u001b[0m\u001b[37m\u001b[0m \u001b[1m10s\u001b[0m 7ms/step - accuracy: 0.9293 - loss: 0.2034 - val_accuracy: 0.8302 - val_loss: 0.6195\n",
            "Epoch 51/100\n",
            "\u001b[1m782/782\u001b[0m \u001b[32m━━━━━━━━━━━━━━━━━━━━\u001b[0m\u001b[37m\u001b[0m \u001b[1m10s\u001b[0m 7ms/step - accuracy: 0.9353 - loss: 0.1887 - val_accuracy: 0.8290 - val_loss: 0.6686\n",
            "Epoch 52/100\n",
            "\u001b[1m782/782\u001b[0m \u001b[32m━━━━━━━━━━━━━━━━━━━━\u001b[0m\u001b[37m\u001b[0m \u001b[1m6s\u001b[0m 8ms/step - accuracy: 0.9358 - loss: 0.1908 - val_accuracy: 0.8123 - val_loss: 0.6480\n",
            "Epoch 53/100\n",
            "\u001b[1m782/782\u001b[0m \u001b[32m━━━━━━━━━━━━━━━━━━━━\u001b[0m\u001b[37m\u001b[0m \u001b[1m10s\u001b[0m 8ms/step - accuracy: 0.9355 - loss: 0.1870 - val_accuracy: 0.8262 - val_loss: 0.6664\n",
            "Epoch 54/100\n",
            "\u001b[1m782/782\u001b[0m \u001b[32m━━━━━━━━━━━━━━━━━━━━\u001b[0m\u001b[37m\u001b[0m \u001b[1m10s\u001b[0m 7ms/step - accuracy: 0.9369 - loss: 0.1870 - val_accuracy: 0.8162 - val_loss: 0.7389\n",
            "Epoch 55/100\n",
            "\u001b[1m782/782\u001b[0m \u001b[32m━━━━━━━━━━━━━━━━━━━━\u001b[0m\u001b[37m\u001b[0m \u001b[1m10s\u001b[0m 7ms/step - accuracy: 0.9342 - loss: 0.1967 - val_accuracy: 0.8312 - val_loss: 0.6612\n",
            "Epoch 56/100\n",
            "\u001b[1m782/782\u001b[0m \u001b[32m━━━━━━━━━━━━━━━━━━━━\u001b[0m\u001b[37m\u001b[0m \u001b[1m6s\u001b[0m 7ms/step - accuracy: 0.9372 - loss: 0.1902 - val_accuracy: 0.8238 - val_loss: 0.6862\n",
            "Epoch 57/100\n",
            "\u001b[1m782/782\u001b[0m \u001b[32m━━━━━━━━━━━━━━━━━━━━\u001b[0m\u001b[37m\u001b[0m \u001b[1m11s\u001b[0m 8ms/step - accuracy: 0.9412 - loss: 0.1750 - val_accuracy: 0.8296 - val_loss: 0.6242\n",
            "Epoch 58/100\n",
            "\u001b[1m782/782\u001b[0m \u001b[32m━━━━━━━━━━━━━━━━━━━━\u001b[0m\u001b[37m\u001b[0m \u001b[1m6s\u001b[0m 7ms/step - accuracy: 0.9381 - loss: 0.1786 - val_accuracy: 0.8239 - val_loss: 0.6379\n",
            "Epoch 59/100\n",
            "\u001b[1m782/782\u001b[0m \u001b[32m━━━━━━━━━━━━━━━━━━━━\u001b[0m\u001b[37m\u001b[0m \u001b[1m10s\u001b[0m 7ms/step - accuracy: 0.9393 - loss: 0.1814 - val_accuracy: 0.8131 - val_loss: 0.7335\n",
            "Epoch 60/100\n",
            "\u001b[1m782/782\u001b[0m \u001b[32m━━━━━━━━━━━━━━━━━━━━\u001b[0m\u001b[37m\u001b[0m \u001b[1m10s\u001b[0m 7ms/step - accuracy: 0.9419 - loss: 0.1741 - val_accuracy: 0.8283 - val_loss: 0.6481\n",
            "Epoch 61/100\n",
            "\u001b[1m782/782\u001b[0m \u001b[32m━━━━━━━━━━━━━━━━━━━━\u001b[0m\u001b[37m\u001b[0m \u001b[1m6s\u001b[0m 7ms/step - accuracy: 0.9442 - loss: 0.1644 - val_accuracy: 0.8277 - val_loss: 0.6911\n",
            "Epoch 62/100\n",
            "\u001b[1m782/782\u001b[0m \u001b[32m━━━━━━━━━━━━━━━━━━━━\u001b[0m\u001b[37m\u001b[0m \u001b[1m6s\u001b[0m 8ms/step - accuracy: 0.9434 - loss: 0.1677 - val_accuracy: 0.8241 - val_loss: 0.6853\n",
            "Epoch 63/100\n",
            "\u001b[1m782/782\u001b[0m \u001b[32m━━━━━━━━━━━━━━━━━━━━\u001b[0m\u001b[37m\u001b[0m \u001b[1m6s\u001b[0m 7ms/step - accuracy: 0.9421 - loss: 0.1692 - val_accuracy: 0.8256 - val_loss: 0.6727\n",
            "Epoch 64/100\n",
            "\u001b[1m782/782\u001b[0m \u001b[32m━━━━━━━━━━━━━━━━━━━━\u001b[0m\u001b[37m\u001b[0m \u001b[1m6s\u001b[0m 7ms/step - accuracy: 0.9447 - loss: 0.1638 - val_accuracy: 0.8280 - val_loss: 0.6714\n",
            "Epoch 65/100\n",
            "\u001b[1m782/782\u001b[0m \u001b[32m━━━━━━━━━━━━━━━━━━━━\u001b[0m\u001b[37m\u001b[0m \u001b[1m10s\u001b[0m 7ms/step - accuracy: 0.9446 - loss: 0.1607 - val_accuracy: 0.8240 - val_loss: 0.6258\n",
            "Epoch 66/100\n",
            "\u001b[1m782/782\u001b[0m \u001b[32m━━━━━━━━━━━━━━━━━━━━\u001b[0m\u001b[37m\u001b[0m \u001b[1m10s\u001b[0m 7ms/step - accuracy: 0.9457 - loss: 0.1606 - val_accuracy: 0.8338 - val_loss: 0.6340\n",
            "Epoch 67/100\n",
            "\u001b[1m782/782\u001b[0m \u001b[32m━━━━━━━━━━━━━━━━━━━━\u001b[0m\u001b[37m\u001b[0m \u001b[1m10s\u001b[0m 7ms/step - accuracy: 0.9460 - loss: 0.1634 - val_accuracy: 0.8363 - val_loss: 0.6681\n",
            "Epoch 68/100\n",
            "\u001b[1m782/782\u001b[0m \u001b[32m━━━━━━━━━━━━━━━━━━━━\u001b[0m\u001b[37m\u001b[0m \u001b[1m6s\u001b[0m 7ms/step - accuracy: 0.9470 - loss: 0.1560 - val_accuracy: 0.8290 - val_loss: 0.6741\n",
            "Epoch 69/100\n",
            "\u001b[1m782/782\u001b[0m \u001b[32m━━━━━━━━━━━━━━━━━━━━\u001b[0m\u001b[37m\u001b[0m \u001b[1m5s\u001b[0m 7ms/step - accuracy: 0.9430 - loss: 0.1656 - val_accuracy: 0.8248 - val_loss: 0.6781\n",
            "Epoch 70/100\n",
            "\u001b[1m782/782\u001b[0m \u001b[32m━━━━━━━━━━━━━━━━━━━━\u001b[0m\u001b[37m\u001b[0m \u001b[1m6s\u001b[0m 7ms/step - accuracy: 0.9470 - loss: 0.1525 - val_accuracy: 0.8281 - val_loss: 0.6515\n",
            "Epoch 71/100\n",
            "\u001b[1m782/782\u001b[0m \u001b[32m━━━━━━━━━━━━━━━━━━━━\u001b[0m\u001b[37m\u001b[0m \u001b[1m6s\u001b[0m 7ms/step - accuracy: 0.9480 - loss: 0.1564 - val_accuracy: 0.8229 - val_loss: 0.7055\n",
            "Epoch 72/100\n",
            "\u001b[1m782/782\u001b[0m \u001b[32m━━━━━━━━━━━━━━━━━━━━\u001b[0m\u001b[37m\u001b[0m \u001b[1m6s\u001b[0m 8ms/step - accuracy: 0.9487 - loss: 0.1525 - val_accuracy: 0.8137 - val_loss: 0.7433\n",
            "Epoch 73/100\n",
            "\u001b[1m782/782\u001b[0m \u001b[32m━━━━━━━━━━━━━━━━━━━━\u001b[0m\u001b[37m\u001b[0m \u001b[1m6s\u001b[0m 7ms/step - accuracy: 0.9510 - loss: 0.1446 - val_accuracy: 0.8311 - val_loss: 0.6658\n",
            "Epoch 74/100\n",
            "\u001b[1m782/782\u001b[0m \u001b[32m━━━━━━━━━━━━━━━━━━━━\u001b[0m\u001b[37m\u001b[0m \u001b[1m6s\u001b[0m 7ms/step - accuracy: 0.9501 - loss: 0.1509 - val_accuracy: 0.8332 - val_loss: 0.6708\n",
            "Epoch 75/100\n",
            "\u001b[1m782/782\u001b[0m \u001b[32m━━━━━━━━━━━━━━━━━━━━\u001b[0m\u001b[37m\u001b[0m \u001b[1m10s\u001b[0m 7ms/step - accuracy: 0.9484 - loss: 0.1479 - val_accuracy: 0.8327 - val_loss: 0.6550\n",
            "Epoch 76/100\n",
            "\u001b[1m782/782\u001b[0m \u001b[32m━━━━━━━━━━━━━━━━━━━━\u001b[0m\u001b[37m\u001b[0m \u001b[1m6s\u001b[0m 7ms/step - accuracy: 0.9536 - loss: 0.1408 - val_accuracy: 0.8270 - val_loss: 0.6385\n",
            "Epoch 77/100\n",
            "\u001b[1m782/782\u001b[0m \u001b[32m━━━━━━━━━━━━━━━━━━━━\u001b[0m\u001b[37m\u001b[0m \u001b[1m10s\u001b[0m 7ms/step - accuracy: 0.9518 - loss: 0.1509 - val_accuracy: 0.8254 - val_loss: 0.6561\n",
            "Epoch 78/100\n",
            "\u001b[1m782/782\u001b[0m \u001b[32m━━━━━━━━━━━━━━━━━━━━\u001b[0m\u001b[37m\u001b[0m \u001b[1m10s\u001b[0m 8ms/step - accuracy: 0.9509 - loss: 0.1448 - val_accuracy: 0.8277 - val_loss: 0.6900\n",
            "Epoch 79/100\n",
            "\u001b[1m782/782\u001b[0m \u001b[32m━━━━━━━━━━━━━━━━━━━━\u001b[0m\u001b[37m\u001b[0m \u001b[1m10s\u001b[0m 8ms/step - accuracy: 0.9549 - loss: 0.1395 - val_accuracy: 0.8292 - val_loss: 0.6720\n",
            "Epoch 80/100\n",
            "\u001b[1m782/782\u001b[0m \u001b[32m━━━━━━━━━━━━━━━━━━━━\u001b[0m\u001b[37m\u001b[0m \u001b[1m10s\u001b[0m 7ms/step - accuracy: 0.9518 - loss: 0.1423 - val_accuracy: 0.8256 - val_loss: 0.6670\n",
            "Epoch 81/100\n",
            "\u001b[1m782/782\u001b[0m \u001b[32m━━━━━━━━━━━━━━━━━━━━\u001b[0m\u001b[37m\u001b[0m \u001b[1m10s\u001b[0m 7ms/step - accuracy: 0.9534 - loss: 0.1401 - val_accuracy: 0.8293 - val_loss: 0.6776\n",
            "Epoch 82/100\n",
            "\u001b[1m782/782\u001b[0m \u001b[32m━━━━━━━━━━━━━━━━━━━━\u001b[0m\u001b[37m\u001b[0m \u001b[1m10s\u001b[0m 7ms/step - accuracy: 0.9543 - loss: 0.1369 - val_accuracy: 0.8267 - val_loss: 0.7339\n",
            "Epoch 83/100\n",
            "\u001b[1m782/782\u001b[0m \u001b[32m━━━━━━━━━━━━━━━━━━━━\u001b[0m\u001b[37m\u001b[0m \u001b[1m6s\u001b[0m 7ms/step - accuracy: 0.9545 - loss: 0.1379 - val_accuracy: 0.8300 - val_loss: 0.6580\n",
            "Epoch 84/100\n",
            "\u001b[1m782/782\u001b[0m \u001b[32m━━━━━━━━━━━━━━━━━━━━\u001b[0m\u001b[37m\u001b[0m \u001b[1m6s\u001b[0m 7ms/step - accuracy: 0.9556 - loss: 0.1327 - val_accuracy: 0.8284 - val_loss: 0.6603\n",
            "Epoch 85/100\n",
            "\u001b[1m782/782\u001b[0m \u001b[32m━━━━━━━━━━━━━━━━━━━━\u001b[0m\u001b[37m\u001b[0m \u001b[1m6s\u001b[0m 7ms/step - accuracy: 0.9524 - loss: 0.1391 - val_accuracy: 0.8296 - val_loss: 0.7070\n",
            "Epoch 86/100\n",
            "\u001b[1m782/782\u001b[0m \u001b[32m━━━━━━━━━━━━━━━━━━━━\u001b[0m\u001b[37m\u001b[0m \u001b[1m5s\u001b[0m 7ms/step - accuracy: 0.9558 - loss: 0.1355 - val_accuracy: 0.8221 - val_loss: 0.6848\n",
            "Epoch 87/100\n",
            "\u001b[1m782/782\u001b[0m \u001b[32m━━━━━━━━━━━━━━━━━━━━\u001b[0m\u001b[37m\u001b[0m \u001b[1m6s\u001b[0m 7ms/step - accuracy: 0.9553 - loss: 0.1312 - val_accuracy: 0.8307 - val_loss: 0.6847\n",
            "Epoch 88/100\n",
            "\u001b[1m782/782\u001b[0m \u001b[32m━━━━━━━━━━━━━━━━━━━━\u001b[0m\u001b[37m\u001b[0m \u001b[1m6s\u001b[0m 7ms/step - accuracy: 0.9568 - loss: 0.1259 - val_accuracy: 0.8271 - val_loss: 0.7054\n",
            "Epoch 89/100\n",
            "\u001b[1m782/782\u001b[0m \u001b[32m━━━━━━━━━━━━━━━━━━━━\u001b[0m\u001b[37m\u001b[0m \u001b[1m10s\u001b[0m 7ms/step - accuracy: 0.9548 - loss: 0.1349 - val_accuracy: 0.8358 - val_loss: 0.6603\n",
            "Epoch 90/100\n",
            "\u001b[1m782/782\u001b[0m \u001b[32m━━━━━━━━━━━━━━━━━━━━\u001b[0m\u001b[37m\u001b[0m \u001b[1m10s\u001b[0m 7ms/step - accuracy: 0.9557 - loss: 0.1348 - val_accuracy: 0.8297 - val_loss: 0.6819\n",
            "Epoch 91/100\n",
            "\u001b[1m782/782\u001b[0m \u001b[32m━━━━━━━━━━━━━━━━━━━━\u001b[0m\u001b[37m\u001b[0m \u001b[1m10s\u001b[0m 7ms/step - accuracy: 0.9566 - loss: 0.1295 - val_accuracy: 0.8273 - val_loss: 0.6924\n",
            "Epoch 92/100\n",
            "\u001b[1m782/782\u001b[0m \u001b[32m━━━━━━━━━━━━━━━━━━━━\u001b[0m\u001b[37m\u001b[0m \u001b[1m10s\u001b[0m 7ms/step - accuracy: 0.9568 - loss: 0.1281 - val_accuracy: 0.8140 - val_loss: 0.7269\n",
            "Epoch 93/100\n",
            "\u001b[1m782/782\u001b[0m \u001b[32m━━━━━━━━━━━━━━━━━━━━\u001b[0m\u001b[37m\u001b[0m \u001b[1m6s\u001b[0m 8ms/step - accuracy: 0.9575 - loss: 0.1228 - val_accuracy: 0.8220 - val_loss: 0.7372\n",
            "Epoch 94/100\n",
            "\u001b[1m782/782\u001b[0m \u001b[32m━━━━━━━━━━━━━━━━━━━━\u001b[0m\u001b[37m\u001b[0m \u001b[1m10s\u001b[0m 7ms/step - accuracy: 0.9562 - loss: 0.1302 - val_accuracy: 0.8297 - val_loss: 0.6728\n",
            "Epoch 95/100\n",
            "\u001b[1m782/782\u001b[0m \u001b[32m━━━━━━━━━━━━━━━━━━━━\u001b[0m\u001b[37m\u001b[0m \u001b[1m6s\u001b[0m 7ms/step - accuracy: 0.9580 - loss: 0.1267 - val_accuracy: 0.8276 - val_loss: 0.7205\n",
            "Epoch 96/100\n",
            "\u001b[1m782/782\u001b[0m \u001b[32m━━━━━━━━━━━━━━━━━━━━\u001b[0m\u001b[37m\u001b[0m \u001b[1m6s\u001b[0m 8ms/step - accuracy: 0.9572 - loss: 0.1296 - val_accuracy: 0.8297 - val_loss: 0.7021\n",
            "Epoch 97/100\n",
            "\u001b[1m782/782\u001b[0m \u001b[32m━━━━━━━━━━━━━━━━━━━━\u001b[0m\u001b[37m\u001b[0m \u001b[1m10s\u001b[0m 8ms/step - accuracy: 0.9567 - loss: 0.1311 - val_accuracy: 0.8369 - val_loss: 0.6865\n",
            "Epoch 98/100\n",
            "\u001b[1m782/782\u001b[0m \u001b[32m━━━━━━━━━━━━━━━━━━━━\u001b[0m\u001b[37m\u001b[0m \u001b[1m5s\u001b[0m 7ms/step - accuracy: 0.9574 - loss: 0.1254 - val_accuracy: 0.8305 - val_loss: 0.7380\n",
            "Epoch 99/100\n",
            "\u001b[1m782/782\u001b[0m \u001b[32m━━━━━━━━━━━━━━━━━━━━\u001b[0m\u001b[37m\u001b[0m \u001b[1m11s\u001b[0m 8ms/step - accuracy: 0.9554 - loss: 0.1349 - val_accuracy: 0.8292 - val_loss: 0.7212\n",
            "Epoch 100/100\n",
            "\u001b[1m782/782\u001b[0m \u001b[32m━━━━━━━━━━━━━━━━━━━━\u001b[0m\u001b[37m\u001b[0m \u001b[1m6s\u001b[0m 7ms/step - accuracy: 0.9566 - loss: 0.1279 - val_accuracy: 0.8353 - val_loss: 0.6721\n"
          ]
        },
        {
          "output_type": "execute_result",
          "data": {
            "text/plain": [
              "<keras.src.callbacks.history.History at 0x7c1050598310>"
            ]
          },
          "metadata": {},
          "execution_count": 56
        }
      ],
      "source": [
        "model.fit(\n",
        "    x=X_train,\n",
        "    y=Y_train,\n",
        "    batch_size=64,\n",
        "    epochs=100,\n",
        "    verbose=\"auto\",\n",
        "    #callbacks=[callback1],\n",
        "    validation_data=(X_test, Y_test)\n",
        ")"
      ]
    },
    {
      "cell_type": "code",
      "execution_count": null,
      "metadata": {
        "id": "xSyavwhwdR3y",
        "colab": {
          "base_uri": "https://localhost:8080/"
        },
        "outputId": "5d22f7e5-bf8b-4bff-e1ee-ec6c8a5d97a5"
      },
      "outputs": [
        {
          "output_type": "stream",
          "name": "stdout",
          "text": [
            "\u001b[1m157/157\u001b[0m \u001b[32m━━━━━━━━━━━━━━━━━━━━\u001b[0m\u001b[37m\u001b[0m \u001b[1m1s\u001b[0m 3ms/step - accuracy: 0.8351 - loss: 0.6587\n"
          ]
        },
        {
          "output_type": "execute_result",
          "data": {
            "text/plain": [
              "[0.6720576882362366, 0.8353000283241272]"
            ]
          },
          "metadata": {},
          "execution_count": 57
        }
      ],
      "source": [
        "model.evaluate(\n",
        "    x=X_test,\n",
        "    y=Y_test,\n",
        "    batch_size=64,\n",
        "    verbose=\"auto\")"
      ]
    },
    {
      "cell_type": "code",
      "source": [
        "model.predict(\n",
        "    x=X_test,\n",
        "    batch_size=64,\n",
        "    verbose=\"auto\",\n",
        "    callbacks=[callback1]\n",
        "    )"
      ],
      "metadata": {
        "colab": {
          "base_uri": "https://localhost:8080/"
        },
        "id": "Y2crGxIb5B1D",
        "outputId": "a166a734-8dbc-4983-d3fb-9268cc22f01e"
      },
      "execution_count": null,
      "outputs": [
        {
          "output_type": "stream",
          "name": "stdout",
          "text": [
            "\u001b[1m157/157\u001b[0m \u001b[32m━━━━━━━━━━━━━━━━━━━━\u001b[0m\u001b[37m\u001b[0m \u001b[1m1s\u001b[0m 5ms/step\n"
          ]
        },
        {
          "output_type": "execute_result",
          "data": {
            "text/plain": [
              "array([[6.13671725e-10, 1.22311428e-09, 2.37496380e-07, ...,\n",
              "        4.36277042e-10, 1.26184148e-07, 1.01257327e-12],\n",
              "       [4.22934021e-10, 9.98433530e-01, 6.06690935e-22, ...,\n",
              "        2.09329985e-25, 1.56637561e-03, 7.04323995e-08],\n",
              "       [3.66049120e-04, 4.70888754e-03, 1.53643737e-10, ...,\n",
              "        6.00668213e-12, 9.94785130e-01, 1.39901196e-04],\n",
              "       ...,\n",
              "       [5.02287881e-12, 5.30346383e-13, 1.84996461e-05, ...,\n",
              "        5.91306773e-04, 2.46317723e-12, 4.62954328e-12],\n",
              "       [1.30795286e-07, 9.99999762e-01, 1.95697625e-10, ...,\n",
              "        1.47071644e-15, 2.23052063e-10, 1.09391785e-07],\n",
              "       [4.91253712e-20, 5.53689951e-20, 6.16083552e-19, ...,\n",
              "        1.00000000e+00, 3.12389966e-26, 1.77891120e-20]], dtype=float32)"
            ]
          },
          "metadata": {},
          "execution_count": 58
        }
      ]
    },
    {
      "cell_type": "code",
      "source": [],
      "metadata": {
        "id": "rP6sNppB_V8d"
      },
      "execution_count": null,
      "outputs": []
    }
  ],
  "metadata": {
    "accelerator": "GPU",
    "colab": {
      "gpuType": "T4",
      "provenance": [],
      "authorship_tag": "ABX9TyO0h2aCcBgP+wEWRrpcm5C4",
      "include_colab_link": true
    },
    "kernelspec": {
      "display_name": "Python 3",
      "name": "python3"
    },
    "language_info": {
      "name": "python"
    }
  },
  "nbformat": 4,
  "nbformat_minor": 0
}